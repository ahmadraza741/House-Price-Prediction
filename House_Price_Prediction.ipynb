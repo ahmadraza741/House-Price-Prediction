{
  "nbformat": 4,
  "nbformat_minor": 0,
  "metadata": {
    "colab": {
      "name": "House Price Prediction.ipynb",
      "provenance": [],
      "collapsed_sections": [
        "x1x30fHL8m3y",
        "RgxHC4Kx-IFz",
        "Lnt6oSRbCmZ9",
        "M5mA2zyQsuNo",
        "wV-JqfhV17wv",
        "xCaouQ8JwxHk",
        "15TZn6x9zAoJ"
      ],
      "authorship_tag": "ABX9TyNv8va2+lE0vpXFoqSxVRgE",
      "include_colab_link": true
    },
    "kernelspec": {
      "name": "python3",
      "display_name": "Python 3"
    },
    "language_info": {
      "name": "python"
    }
  },
  "cells": [
    {
      "cell_type": "markdown",
      "metadata": {
        "id": "view-in-github",
        "colab_type": "text"
      },
      "source": [
        "<a href=\"https://colab.research.google.com/github/ahmadraza741/House-Price-Prediction/blob/main/House_Price_Prediction.ipynb\" target=\"_parent\"><img src=\"https://colab.research.google.com/assets/colab-badge.svg\" alt=\"Open In Colab\"/></a>"
      ]
    },
    {
      "cell_type": "markdown",
      "source": [
        "## **HOUSE PRICE PREDICTION**"
      ],
      "metadata": {
        "id": "j-MO7QmZ2wdw"
      }
    },
    {
      "cell_type": "markdown",
      "source": [
        "This is the project done on california housing dataset for the prediction of the house price with the Linear Regression model.\n",
        "\n",
        "We will go through some of the steps like:\n",
        "1.   Loading the Dataset\n",
        "2.   Data Exploration\n",
        "3.   Data Preprocessing and Model exploration\n",
        "4.   Model Evaluation\n",
        "5.   Prediction\n",
        "6.   Model performance\n",
        "\n",
        "Using some SkLearn API like preprocessing, model_selection, compose etc. we will try to formulate our model and predict the efficiency of our model as high as possible. Also by performing Hyperparameter tuning we can increase the efficiency of our model.\n",
        "So lets begin...\n",
        "\n"
      ],
      "metadata": {
        "id": "lqDhtmzL28N0"
      }
    },
    {
      "cell_type": "code",
      "source": [
        "#importing SkLearn APIs\n",
        "import numpy as np\n",
        "import pandas as pd\n",
        "import matplotlib.pyplot as plt\n",
        "import seaborn as sns\n",
        "% matplotlib inline\n",
        "\n",
        "from sklearn.datasets import fetch_california_housing\n",
        "from sklearn.linear_model import LinearRegression\n",
        "\n",
        "from sklearn.preprocessing import OneHotEncoder, StandardScaler\n",
        "\n",
        "from sklearn.model_selection import train_test_split\n",
        "from sklearn.model_selection import ShuffleSplit\n",
        "from sklearn.model_selection import learning_curve\n",
        "from sklearn.model_selection import cross_val_predict, cross_val_score, cross_validate\n",
        "\n",
        "from sklearn.metrics import mean_squared_error, mean_absolute_error"
      ],
      "metadata": {
        "id": "M8f8UzNC0v4p"
      },
      "execution_count": null,
      "outputs": []
    },
    {
      "cell_type": "code",
      "source": [
        "# setting up the random_state value for having the same data value to be loaded.\n",
        "np.random.seed(42)\n",
        "plt.style.use('seaborn')"
      ],
      "metadata": {
        "id": "TeGcYYm48JVT"
      },
      "execution_count": null,
      "outputs": []
    },
    {
      "cell_type": "markdown",
      "source": [
        "###Step1:**Loading the Dataset**"
      ],
      "metadata": {
        "id": "x1x30fHL8m3y"
      }
    },
    {
      "cell_type": "code",
      "source": [
        "features, label = fetch_california_housing(as_frame=True, return_X_y=True)"
      ],
      "metadata": {
        "id": "pYjL5eT68kV1"
      },
      "execution_count": null,
      "outputs": []
    },
    {
      "cell_type": "markdown",
      "source": [
        "Now that we have separated features and label from california housing dataset. Lets start examining the dataset."
      ],
      "metadata": {
        "id": "jO23cAaa9y28"
      }
    },
    {
      "cell_type": "code",
      "source": [
        "print(f\"shape of the feature:{features.shape}\")\n",
        "print(f\"shape of the label:{label.shape}\")"
      ],
      "metadata": {
        "colab": {
          "base_uri": "https://localhost:8080/"
        },
        "id": "VEAuJ7UC9x1H",
        "outputId": "917787eb-4feb-4a84-8a76-f64a88a3f5b1"
      },
      "execution_count": null,
      "outputs": [
        {
          "output_type": "stream",
          "name": "stdout",
          "text": [
            "shape of the feature:(20640, 8)\n",
            "shape of the label:(20640,)\n"
          ]
        }
      ]
    },
    {
      "cell_type": "markdown",
      "source": [
        "###Step2:**Data Exploration**"
      ],
      "metadata": {
        "id": "RgxHC4Kx-IFz"
      }
    },
    {
      "cell_type": "markdown",
      "source": [
        "1. Number of Instances: **20640**\n",
        "\n",
        "2. Number of Attributes: **8 numeric, predictive attributes and the target**\n",
        "\n",
        "3. Attribute Information: \n",
        "                          **MedInc median income in block group**\n",
        "\n",
        "                          **HouseAge median house age in block group**\n",
        "\n",
        "                          **AveRooms average number of rooms per household**\n",
        "\n",
        "                          **AveBedrms average number of bedrooms per household**\n",
        "\n",
        "                          **Population block group population**\n",
        "\n",
        "                          **AveOccup average number of household members**\n",
        "\n",
        "                          **Latitude block group latitude**\n",
        "\n",
        "                          **Longitude block group longitude**\n",
        "\n",
        "An household is a group of people residing within a home. Since the average number of rooms and bedrooms in this dataset are provided per household, these columns may take surpinsingly large values for block groups with few households and many empty houses, such as vacation resorts.\n",
        "\n",
        "It can be downloaded/loaded using the https://colab.research.google.com/drive/1OQ4czWu8QvH3LzhGUTr4tLFQ9tELcsGf#scrollTo=WZa6tQZ7buND&line=24&uniqifier=1 function."
      ],
      "metadata": {
        "id": "WZa6tQZ7buND"
      }
    },
    {
      "cell_type": "code",
      "source": [
        "housing_data = fetch_california_housing()\n",
        "housing_df = pd.DataFrame(data=housing_data[\"data\"],columns=housing_data[\"feature_names\"])\n",
        "housing_df"
      ],
      "metadata": {
        "colab": {
          "base_uri": "https://localhost:8080/",
          "height": 423
        },
        "id": "EDsP-DdM-Bik",
        "outputId": "ccb717f1-763e-4e33-8e25-393f2e580a70"
      },
      "execution_count": null,
      "outputs": [
        {
          "output_type": "execute_result",
          "data": {
            "text/html": [
              "\n",
              "  <div id=\"df-8b236c84-2446-44d6-ac1e-d97da162ba79\">\n",
              "    <div class=\"colab-df-container\">\n",
              "      <div>\n",
              "<style scoped>\n",
              "    .dataframe tbody tr th:only-of-type {\n",
              "        vertical-align: middle;\n",
              "    }\n",
              "\n",
              "    .dataframe tbody tr th {\n",
              "        vertical-align: top;\n",
              "    }\n",
              "\n",
              "    .dataframe thead th {\n",
              "        text-align: right;\n",
              "    }\n",
              "</style>\n",
              "<table border=\"1\" class=\"dataframe\">\n",
              "  <thead>\n",
              "    <tr style=\"text-align: right;\">\n",
              "      <th></th>\n",
              "      <th>MedInc</th>\n",
              "      <th>HouseAge</th>\n",
              "      <th>AveRooms</th>\n",
              "      <th>AveBedrms</th>\n",
              "      <th>Population</th>\n",
              "      <th>AveOccup</th>\n",
              "      <th>Latitude</th>\n",
              "      <th>Longitude</th>\n",
              "    </tr>\n",
              "  </thead>\n",
              "  <tbody>\n",
              "    <tr>\n",
              "      <th>0</th>\n",
              "      <td>8.3252</td>\n",
              "      <td>41.0</td>\n",
              "      <td>6.984127</td>\n",
              "      <td>1.023810</td>\n",
              "      <td>322.0</td>\n",
              "      <td>2.555556</td>\n",
              "      <td>37.88</td>\n",
              "      <td>-122.23</td>\n",
              "    </tr>\n",
              "    <tr>\n",
              "      <th>1</th>\n",
              "      <td>8.3014</td>\n",
              "      <td>21.0</td>\n",
              "      <td>6.238137</td>\n",
              "      <td>0.971880</td>\n",
              "      <td>2401.0</td>\n",
              "      <td>2.109842</td>\n",
              "      <td>37.86</td>\n",
              "      <td>-122.22</td>\n",
              "    </tr>\n",
              "    <tr>\n",
              "      <th>2</th>\n",
              "      <td>7.2574</td>\n",
              "      <td>52.0</td>\n",
              "      <td>8.288136</td>\n",
              "      <td>1.073446</td>\n",
              "      <td>496.0</td>\n",
              "      <td>2.802260</td>\n",
              "      <td>37.85</td>\n",
              "      <td>-122.24</td>\n",
              "    </tr>\n",
              "    <tr>\n",
              "      <th>3</th>\n",
              "      <td>5.6431</td>\n",
              "      <td>52.0</td>\n",
              "      <td>5.817352</td>\n",
              "      <td>1.073059</td>\n",
              "      <td>558.0</td>\n",
              "      <td>2.547945</td>\n",
              "      <td>37.85</td>\n",
              "      <td>-122.25</td>\n",
              "    </tr>\n",
              "    <tr>\n",
              "      <th>4</th>\n",
              "      <td>3.8462</td>\n",
              "      <td>52.0</td>\n",
              "      <td>6.281853</td>\n",
              "      <td>1.081081</td>\n",
              "      <td>565.0</td>\n",
              "      <td>2.181467</td>\n",
              "      <td>37.85</td>\n",
              "      <td>-122.25</td>\n",
              "    </tr>\n",
              "    <tr>\n",
              "      <th>...</th>\n",
              "      <td>...</td>\n",
              "      <td>...</td>\n",
              "      <td>...</td>\n",
              "      <td>...</td>\n",
              "      <td>...</td>\n",
              "      <td>...</td>\n",
              "      <td>...</td>\n",
              "      <td>...</td>\n",
              "    </tr>\n",
              "    <tr>\n",
              "      <th>20635</th>\n",
              "      <td>1.5603</td>\n",
              "      <td>25.0</td>\n",
              "      <td>5.045455</td>\n",
              "      <td>1.133333</td>\n",
              "      <td>845.0</td>\n",
              "      <td>2.560606</td>\n",
              "      <td>39.48</td>\n",
              "      <td>-121.09</td>\n",
              "    </tr>\n",
              "    <tr>\n",
              "      <th>20636</th>\n",
              "      <td>2.5568</td>\n",
              "      <td>18.0</td>\n",
              "      <td>6.114035</td>\n",
              "      <td>1.315789</td>\n",
              "      <td>356.0</td>\n",
              "      <td>3.122807</td>\n",
              "      <td>39.49</td>\n",
              "      <td>-121.21</td>\n",
              "    </tr>\n",
              "    <tr>\n",
              "      <th>20637</th>\n",
              "      <td>1.7000</td>\n",
              "      <td>17.0</td>\n",
              "      <td>5.205543</td>\n",
              "      <td>1.120092</td>\n",
              "      <td>1007.0</td>\n",
              "      <td>2.325635</td>\n",
              "      <td>39.43</td>\n",
              "      <td>-121.22</td>\n",
              "    </tr>\n",
              "    <tr>\n",
              "      <th>20638</th>\n",
              "      <td>1.8672</td>\n",
              "      <td>18.0</td>\n",
              "      <td>5.329513</td>\n",
              "      <td>1.171920</td>\n",
              "      <td>741.0</td>\n",
              "      <td>2.123209</td>\n",
              "      <td>39.43</td>\n",
              "      <td>-121.32</td>\n",
              "    </tr>\n",
              "    <tr>\n",
              "      <th>20639</th>\n",
              "      <td>2.3886</td>\n",
              "      <td>16.0</td>\n",
              "      <td>5.254717</td>\n",
              "      <td>1.162264</td>\n",
              "      <td>1387.0</td>\n",
              "      <td>2.616981</td>\n",
              "      <td>39.37</td>\n",
              "      <td>-121.24</td>\n",
              "    </tr>\n",
              "  </tbody>\n",
              "</table>\n",
              "<p>20640 rows × 8 columns</p>\n",
              "</div>\n",
              "      <button class=\"colab-df-convert\" onclick=\"convertToInteractive('df-8b236c84-2446-44d6-ac1e-d97da162ba79')\"\n",
              "              title=\"Convert this dataframe to an interactive table.\"\n",
              "              style=\"display:none;\">\n",
              "        \n",
              "  <svg xmlns=\"http://www.w3.org/2000/svg\" height=\"24px\"viewBox=\"0 0 24 24\"\n",
              "       width=\"24px\">\n",
              "    <path d=\"M0 0h24v24H0V0z\" fill=\"none\"/>\n",
              "    <path d=\"M18.56 5.44l.94 2.06.94-2.06 2.06-.94-2.06-.94-.94-2.06-.94 2.06-2.06.94zm-11 1L8.5 8.5l.94-2.06 2.06-.94-2.06-.94L8.5 2.5l-.94 2.06-2.06.94zm10 10l.94 2.06.94-2.06 2.06-.94-2.06-.94-.94-2.06-.94 2.06-2.06.94z\"/><path d=\"M17.41 7.96l-1.37-1.37c-.4-.4-.92-.59-1.43-.59-.52 0-1.04.2-1.43.59L10.3 9.45l-7.72 7.72c-.78.78-.78 2.05 0 2.83L4 21.41c.39.39.9.59 1.41.59.51 0 1.02-.2 1.41-.59l7.78-7.78 2.81-2.81c.8-.78.8-2.07 0-2.86zM5.41 20L4 18.59l7.72-7.72 1.47 1.35L5.41 20z\"/>\n",
              "  </svg>\n",
              "      </button>\n",
              "      \n",
              "  <style>\n",
              "    .colab-df-container {\n",
              "      display:flex;\n",
              "      flex-wrap:wrap;\n",
              "      gap: 12px;\n",
              "    }\n",
              "\n",
              "    .colab-df-convert {\n",
              "      background-color: #E8F0FE;\n",
              "      border: none;\n",
              "      border-radius: 50%;\n",
              "      cursor: pointer;\n",
              "      display: none;\n",
              "      fill: #1967D2;\n",
              "      height: 32px;\n",
              "      padding: 0 0 0 0;\n",
              "      width: 32px;\n",
              "    }\n",
              "\n",
              "    .colab-df-convert:hover {\n",
              "      background-color: #E2EBFA;\n",
              "      box-shadow: 0px 1px 2px rgba(60, 64, 67, 0.3), 0px 1px 3px 1px rgba(60, 64, 67, 0.15);\n",
              "      fill: #174EA6;\n",
              "    }\n",
              "\n",
              "    [theme=dark] .colab-df-convert {\n",
              "      background-color: #3B4455;\n",
              "      fill: #D2E3FC;\n",
              "    }\n",
              "\n",
              "    [theme=dark] .colab-df-convert:hover {\n",
              "      background-color: #434B5C;\n",
              "      box-shadow: 0px 1px 3px 1px rgba(0, 0, 0, 0.15);\n",
              "      filter: drop-shadow(0px 1px 2px rgba(0, 0, 0, 0.3));\n",
              "      fill: #FFFFFF;\n",
              "    }\n",
              "  </style>\n",
              "\n",
              "      <script>\n",
              "        const buttonEl =\n",
              "          document.querySelector('#df-8b236c84-2446-44d6-ac1e-d97da162ba79 button.colab-df-convert');\n",
              "        buttonEl.style.display =\n",
              "          google.colab.kernel.accessAllowed ? 'block' : 'none';\n",
              "\n",
              "        async function convertToInteractive(key) {\n",
              "          const element = document.querySelector('#df-8b236c84-2446-44d6-ac1e-d97da162ba79');\n",
              "          const dataTable =\n",
              "            await google.colab.kernel.invokeFunction('convertToInteractive',\n",
              "                                                     [key], {});\n",
              "          if (!dataTable) return;\n",
              "\n",
              "          const docLinkHtml = 'Like what you see? Visit the ' +\n",
              "            '<a target=\"_blank\" href=https://colab.research.google.com/notebooks/data_table.ipynb>data table notebook</a>'\n",
              "            + ' to learn more about interactive tables.';\n",
              "          element.innerHTML = '';\n",
              "          dataTable['output_type'] = 'display_data';\n",
              "          await google.colab.output.renderOutput(dataTable, element);\n",
              "          const docLink = document.createElement('div');\n",
              "          docLink.innerHTML = docLinkHtml;\n",
              "          element.appendChild(docLink);\n",
              "        }\n",
              "      </script>\n",
              "    </div>\n",
              "  </div>\n",
              "  "
            ],
            "text/plain": [
              "       MedInc  HouseAge  AveRooms  ...  AveOccup  Latitude  Longitude\n",
              "0      8.3252      41.0  6.984127  ...  2.555556     37.88    -122.23\n",
              "1      8.3014      21.0  6.238137  ...  2.109842     37.86    -122.22\n",
              "2      7.2574      52.0  8.288136  ...  2.802260     37.85    -122.24\n",
              "3      5.6431      52.0  5.817352  ...  2.547945     37.85    -122.25\n",
              "4      3.8462      52.0  6.281853  ...  2.181467     37.85    -122.25\n",
              "...       ...       ...       ...  ...       ...       ...        ...\n",
              "20635  1.5603      25.0  5.045455  ...  2.560606     39.48    -121.09\n",
              "20636  2.5568      18.0  6.114035  ...  3.122807     39.49    -121.21\n",
              "20637  1.7000      17.0  5.205543  ...  2.325635     39.43    -121.22\n",
              "20638  1.8672      18.0  5.329513  ...  2.123209     39.43    -121.32\n",
              "20639  2.3886      16.0  5.254717  ...  2.616981     39.37    -121.24\n",
              "\n",
              "[20640 rows x 8 columns]"
            ]
          },
          "metadata": {},
          "execution_count": 121
        }
      ]
    },
    {
      "cell_type": "code",
      "source": [
        "housing_df[\"target\"] = housing_data[\"target\"]"
      ],
      "metadata": {
        "id": "0_aws5V__KgJ"
      },
      "execution_count": null,
      "outputs": []
    },
    {
      "cell_type": "code",
      "source": [
        "housing_df"
      ],
      "metadata": {
        "colab": {
          "base_uri": "https://localhost:8080/",
          "height": 423
        },
        "id": "MxVa7km7_Wn4",
        "outputId": "00ccde84-bf7f-48a2-d1a7-fdfb470f2b77"
      },
      "execution_count": null,
      "outputs": [
        {
          "output_type": "execute_result",
          "data": {
            "text/html": [
              "\n",
              "  <div id=\"df-223d1e12-9bea-4c29-a71c-1ad84a7c3042\">\n",
              "    <div class=\"colab-df-container\">\n",
              "      <div>\n",
              "<style scoped>\n",
              "    .dataframe tbody tr th:only-of-type {\n",
              "        vertical-align: middle;\n",
              "    }\n",
              "\n",
              "    .dataframe tbody tr th {\n",
              "        vertical-align: top;\n",
              "    }\n",
              "\n",
              "    .dataframe thead th {\n",
              "        text-align: right;\n",
              "    }\n",
              "</style>\n",
              "<table border=\"1\" class=\"dataframe\">\n",
              "  <thead>\n",
              "    <tr style=\"text-align: right;\">\n",
              "      <th></th>\n",
              "      <th>MedInc</th>\n",
              "      <th>HouseAge</th>\n",
              "      <th>AveRooms</th>\n",
              "      <th>AveBedrms</th>\n",
              "      <th>Population</th>\n",
              "      <th>AveOccup</th>\n",
              "      <th>Latitude</th>\n",
              "      <th>Longitude</th>\n",
              "      <th>target</th>\n",
              "    </tr>\n",
              "  </thead>\n",
              "  <tbody>\n",
              "    <tr>\n",
              "      <th>0</th>\n",
              "      <td>8.3252</td>\n",
              "      <td>41.0</td>\n",
              "      <td>6.984127</td>\n",
              "      <td>1.023810</td>\n",
              "      <td>322.0</td>\n",
              "      <td>2.555556</td>\n",
              "      <td>37.88</td>\n",
              "      <td>-122.23</td>\n",
              "      <td>4.526</td>\n",
              "    </tr>\n",
              "    <tr>\n",
              "      <th>1</th>\n",
              "      <td>8.3014</td>\n",
              "      <td>21.0</td>\n",
              "      <td>6.238137</td>\n",
              "      <td>0.971880</td>\n",
              "      <td>2401.0</td>\n",
              "      <td>2.109842</td>\n",
              "      <td>37.86</td>\n",
              "      <td>-122.22</td>\n",
              "      <td>3.585</td>\n",
              "    </tr>\n",
              "    <tr>\n",
              "      <th>2</th>\n",
              "      <td>7.2574</td>\n",
              "      <td>52.0</td>\n",
              "      <td>8.288136</td>\n",
              "      <td>1.073446</td>\n",
              "      <td>496.0</td>\n",
              "      <td>2.802260</td>\n",
              "      <td>37.85</td>\n",
              "      <td>-122.24</td>\n",
              "      <td>3.521</td>\n",
              "    </tr>\n",
              "    <tr>\n",
              "      <th>3</th>\n",
              "      <td>5.6431</td>\n",
              "      <td>52.0</td>\n",
              "      <td>5.817352</td>\n",
              "      <td>1.073059</td>\n",
              "      <td>558.0</td>\n",
              "      <td>2.547945</td>\n",
              "      <td>37.85</td>\n",
              "      <td>-122.25</td>\n",
              "      <td>3.413</td>\n",
              "    </tr>\n",
              "    <tr>\n",
              "      <th>4</th>\n",
              "      <td>3.8462</td>\n",
              "      <td>52.0</td>\n",
              "      <td>6.281853</td>\n",
              "      <td>1.081081</td>\n",
              "      <td>565.0</td>\n",
              "      <td>2.181467</td>\n",
              "      <td>37.85</td>\n",
              "      <td>-122.25</td>\n",
              "      <td>3.422</td>\n",
              "    </tr>\n",
              "    <tr>\n",
              "      <th>...</th>\n",
              "      <td>...</td>\n",
              "      <td>...</td>\n",
              "      <td>...</td>\n",
              "      <td>...</td>\n",
              "      <td>...</td>\n",
              "      <td>...</td>\n",
              "      <td>...</td>\n",
              "      <td>...</td>\n",
              "      <td>...</td>\n",
              "    </tr>\n",
              "    <tr>\n",
              "      <th>20635</th>\n",
              "      <td>1.5603</td>\n",
              "      <td>25.0</td>\n",
              "      <td>5.045455</td>\n",
              "      <td>1.133333</td>\n",
              "      <td>845.0</td>\n",
              "      <td>2.560606</td>\n",
              "      <td>39.48</td>\n",
              "      <td>-121.09</td>\n",
              "      <td>0.781</td>\n",
              "    </tr>\n",
              "    <tr>\n",
              "      <th>20636</th>\n",
              "      <td>2.5568</td>\n",
              "      <td>18.0</td>\n",
              "      <td>6.114035</td>\n",
              "      <td>1.315789</td>\n",
              "      <td>356.0</td>\n",
              "      <td>3.122807</td>\n",
              "      <td>39.49</td>\n",
              "      <td>-121.21</td>\n",
              "      <td>0.771</td>\n",
              "    </tr>\n",
              "    <tr>\n",
              "      <th>20637</th>\n",
              "      <td>1.7000</td>\n",
              "      <td>17.0</td>\n",
              "      <td>5.205543</td>\n",
              "      <td>1.120092</td>\n",
              "      <td>1007.0</td>\n",
              "      <td>2.325635</td>\n",
              "      <td>39.43</td>\n",
              "      <td>-121.22</td>\n",
              "      <td>0.923</td>\n",
              "    </tr>\n",
              "    <tr>\n",
              "      <th>20638</th>\n",
              "      <td>1.8672</td>\n",
              "      <td>18.0</td>\n",
              "      <td>5.329513</td>\n",
              "      <td>1.171920</td>\n",
              "      <td>741.0</td>\n",
              "      <td>2.123209</td>\n",
              "      <td>39.43</td>\n",
              "      <td>-121.32</td>\n",
              "      <td>0.847</td>\n",
              "    </tr>\n",
              "    <tr>\n",
              "      <th>20639</th>\n",
              "      <td>2.3886</td>\n",
              "      <td>16.0</td>\n",
              "      <td>5.254717</td>\n",
              "      <td>1.162264</td>\n",
              "      <td>1387.0</td>\n",
              "      <td>2.616981</td>\n",
              "      <td>39.37</td>\n",
              "      <td>-121.24</td>\n",
              "      <td>0.894</td>\n",
              "    </tr>\n",
              "  </tbody>\n",
              "</table>\n",
              "<p>20640 rows × 9 columns</p>\n",
              "</div>\n",
              "      <button class=\"colab-df-convert\" onclick=\"convertToInteractive('df-223d1e12-9bea-4c29-a71c-1ad84a7c3042')\"\n",
              "              title=\"Convert this dataframe to an interactive table.\"\n",
              "              style=\"display:none;\">\n",
              "        \n",
              "  <svg xmlns=\"http://www.w3.org/2000/svg\" height=\"24px\"viewBox=\"0 0 24 24\"\n",
              "       width=\"24px\">\n",
              "    <path d=\"M0 0h24v24H0V0z\" fill=\"none\"/>\n",
              "    <path d=\"M18.56 5.44l.94 2.06.94-2.06 2.06-.94-2.06-.94-.94-2.06-.94 2.06-2.06.94zm-11 1L8.5 8.5l.94-2.06 2.06-.94-2.06-.94L8.5 2.5l-.94 2.06-2.06.94zm10 10l.94 2.06.94-2.06 2.06-.94-2.06-.94-.94-2.06-.94 2.06-2.06.94z\"/><path d=\"M17.41 7.96l-1.37-1.37c-.4-.4-.92-.59-1.43-.59-.52 0-1.04.2-1.43.59L10.3 9.45l-7.72 7.72c-.78.78-.78 2.05 0 2.83L4 21.41c.39.39.9.59 1.41.59.51 0 1.02-.2 1.41-.59l7.78-7.78 2.81-2.81c.8-.78.8-2.07 0-2.86zM5.41 20L4 18.59l7.72-7.72 1.47 1.35L5.41 20z\"/>\n",
              "  </svg>\n",
              "      </button>\n",
              "      \n",
              "  <style>\n",
              "    .colab-df-container {\n",
              "      display:flex;\n",
              "      flex-wrap:wrap;\n",
              "      gap: 12px;\n",
              "    }\n",
              "\n",
              "    .colab-df-convert {\n",
              "      background-color: #E8F0FE;\n",
              "      border: none;\n",
              "      border-radius: 50%;\n",
              "      cursor: pointer;\n",
              "      display: none;\n",
              "      fill: #1967D2;\n",
              "      height: 32px;\n",
              "      padding: 0 0 0 0;\n",
              "      width: 32px;\n",
              "    }\n",
              "\n",
              "    .colab-df-convert:hover {\n",
              "      background-color: #E2EBFA;\n",
              "      box-shadow: 0px 1px 2px rgba(60, 64, 67, 0.3), 0px 1px 3px 1px rgba(60, 64, 67, 0.15);\n",
              "      fill: #174EA6;\n",
              "    }\n",
              "\n",
              "    [theme=dark] .colab-df-convert {\n",
              "      background-color: #3B4455;\n",
              "      fill: #D2E3FC;\n",
              "    }\n",
              "\n",
              "    [theme=dark] .colab-df-convert:hover {\n",
              "      background-color: #434B5C;\n",
              "      box-shadow: 0px 1px 3px 1px rgba(0, 0, 0, 0.15);\n",
              "      filter: drop-shadow(0px 1px 2px rgba(0, 0, 0, 0.3));\n",
              "      fill: #FFFFFF;\n",
              "    }\n",
              "  </style>\n",
              "\n",
              "      <script>\n",
              "        const buttonEl =\n",
              "          document.querySelector('#df-223d1e12-9bea-4c29-a71c-1ad84a7c3042 button.colab-df-convert');\n",
              "        buttonEl.style.display =\n",
              "          google.colab.kernel.accessAllowed ? 'block' : 'none';\n",
              "\n",
              "        async function convertToInteractive(key) {\n",
              "          const element = document.querySelector('#df-223d1e12-9bea-4c29-a71c-1ad84a7c3042');\n",
              "          const dataTable =\n",
              "            await google.colab.kernel.invokeFunction('convertToInteractive',\n",
              "                                                     [key], {});\n",
              "          if (!dataTable) return;\n",
              "\n",
              "          const docLinkHtml = 'Like what you see? Visit the ' +\n",
              "            '<a target=\"_blank\" href=https://colab.research.google.com/notebooks/data_table.ipynb>data table notebook</a>'\n",
              "            + ' to learn more about interactive tables.';\n",
              "          element.innerHTML = '';\n",
              "          dataTable['output_type'] = 'display_data';\n",
              "          await google.colab.output.renderOutput(dataTable, element);\n",
              "          const docLink = document.createElement('div');\n",
              "          docLink.innerHTML = docLinkHtml;\n",
              "          element.appendChild(docLink);\n",
              "        }\n",
              "      </script>\n",
              "    </div>\n",
              "  </div>\n",
              "  "
            ],
            "text/plain": [
              "       MedInc  HouseAge  AveRooms  ...  Latitude  Longitude  target\n",
              "0      8.3252      41.0  6.984127  ...     37.88    -122.23   4.526\n",
              "1      8.3014      21.0  6.238137  ...     37.86    -122.22   3.585\n",
              "2      7.2574      52.0  8.288136  ...     37.85    -122.24   3.521\n",
              "3      5.6431      52.0  5.817352  ...     37.85    -122.25   3.413\n",
              "4      3.8462      52.0  6.281853  ...     37.85    -122.25   3.422\n",
              "...       ...       ...       ...  ...       ...        ...     ...\n",
              "20635  1.5603      25.0  5.045455  ...     39.48    -121.09   0.781\n",
              "20636  2.5568      18.0  6.114035  ...     39.49    -121.21   0.771\n",
              "20637  1.7000      17.0  5.205543  ...     39.43    -121.22   0.923\n",
              "20638  1.8672      18.0  5.329513  ...     39.43    -121.32   0.847\n",
              "20639  2.3886      16.0  5.254717  ...     39.37    -121.24   0.894\n",
              "\n",
              "[20640 rows x 9 columns]"
            ]
          },
          "metadata": {},
          "execution_count": 123
        }
      ]
    },
    {
      "cell_type": "code",
      "source": [
        "housing_df.info()"
      ],
      "metadata": {
        "colab": {
          "base_uri": "https://localhost:8080/"
        },
        "id": "_ZWpWpl7_YJ9",
        "outputId": "ffcf147e-273f-492f-8b2e-719c81460f5c"
      },
      "execution_count": null,
      "outputs": [
        {
          "output_type": "stream",
          "name": "stdout",
          "text": [
            "<class 'pandas.core.frame.DataFrame'>\n",
            "RangeIndex: 20640 entries, 0 to 20639\n",
            "Data columns (total 9 columns):\n",
            " #   Column      Non-Null Count  Dtype  \n",
            "---  ------      --------------  -----  \n",
            " 0   MedInc      20640 non-null  float64\n",
            " 1   HouseAge    20640 non-null  float64\n",
            " 2   AveRooms    20640 non-null  float64\n",
            " 3   AveBedrms   20640 non-null  float64\n",
            " 4   Population  20640 non-null  float64\n",
            " 5   AveOccup    20640 non-null  float64\n",
            " 6   Latitude    20640 non-null  float64\n",
            " 7   Longitude   20640 non-null  float64\n",
            " 8   target      20640 non-null  float64\n",
            "dtypes: float64(9)\n",
            "memory usage: 1.4 MB\n"
          ]
        }
      ]
    },
    {
      "cell_type": "code",
      "source": [
        "housing_df.isna().sum()"
      ],
      "metadata": {
        "colab": {
          "base_uri": "https://localhost:8080/"
        },
        "id": "VGNIKaCf_jce",
        "outputId": "5bebde5a-4727-4197-e692-e1dbdedfa00b"
      },
      "execution_count": null,
      "outputs": [
        {
          "output_type": "execute_result",
          "data": {
            "text/plain": [
              "MedInc        0\n",
              "HouseAge      0\n",
              "AveRooms      0\n",
              "AveBedrms     0\n",
              "Population    0\n",
              "AveOccup      0\n",
              "Latitude      0\n",
              "Longitude     0\n",
              "target        0\n",
              "dtype: int64"
            ]
          },
          "metadata": {},
          "execution_count": 125
        }
      ]
    },
    {
      "cell_type": "markdown",
      "source": [
        "There are no NaN value in the california housing dataset. So now we can proceed to the further steps..."
      ],
      "metadata": {
        "id": "z4nLYghG_4L6"
      }
    },
    {
      "cell_type": "code",
      "source": [
        "housing_df.describe().T"
      ],
      "metadata": {
        "colab": {
          "base_uri": "https://localhost:8080/",
          "height": 331
        },
        "id": "ZPUPnt9uAHJK",
        "outputId": "79c560ea-fb75-4343-e8df-90d367be8497"
      },
      "execution_count": null,
      "outputs": [
        {
          "output_type": "execute_result",
          "data": {
            "text/html": [
              "\n",
              "  <div id=\"df-3960b30e-89e2-4abd-bdd5-94c79d26e5a7\">\n",
              "    <div class=\"colab-df-container\">\n",
              "      <div>\n",
              "<style scoped>\n",
              "    .dataframe tbody tr th:only-of-type {\n",
              "        vertical-align: middle;\n",
              "    }\n",
              "\n",
              "    .dataframe tbody tr th {\n",
              "        vertical-align: top;\n",
              "    }\n",
              "\n",
              "    .dataframe thead th {\n",
              "        text-align: right;\n",
              "    }\n",
              "</style>\n",
              "<table border=\"1\" class=\"dataframe\">\n",
              "  <thead>\n",
              "    <tr style=\"text-align: right;\">\n",
              "      <th></th>\n",
              "      <th>count</th>\n",
              "      <th>mean</th>\n",
              "      <th>std</th>\n",
              "      <th>min</th>\n",
              "      <th>25%</th>\n",
              "      <th>50%</th>\n",
              "      <th>75%</th>\n",
              "      <th>max</th>\n",
              "    </tr>\n",
              "  </thead>\n",
              "  <tbody>\n",
              "    <tr>\n",
              "      <th>MedInc</th>\n",
              "      <td>20640.0</td>\n",
              "      <td>3.870671</td>\n",
              "      <td>1.899822</td>\n",
              "      <td>0.499900</td>\n",
              "      <td>2.563400</td>\n",
              "      <td>3.534800</td>\n",
              "      <td>4.743250</td>\n",
              "      <td>15.000100</td>\n",
              "    </tr>\n",
              "    <tr>\n",
              "      <th>HouseAge</th>\n",
              "      <td>20640.0</td>\n",
              "      <td>28.639486</td>\n",
              "      <td>12.585558</td>\n",
              "      <td>1.000000</td>\n",
              "      <td>18.000000</td>\n",
              "      <td>29.000000</td>\n",
              "      <td>37.000000</td>\n",
              "      <td>52.000000</td>\n",
              "    </tr>\n",
              "    <tr>\n",
              "      <th>AveRooms</th>\n",
              "      <td>20640.0</td>\n",
              "      <td>5.429000</td>\n",
              "      <td>2.474173</td>\n",
              "      <td>0.846154</td>\n",
              "      <td>4.440716</td>\n",
              "      <td>5.229129</td>\n",
              "      <td>6.052381</td>\n",
              "      <td>141.909091</td>\n",
              "    </tr>\n",
              "    <tr>\n",
              "      <th>AveBedrms</th>\n",
              "      <td>20640.0</td>\n",
              "      <td>1.096675</td>\n",
              "      <td>0.473911</td>\n",
              "      <td>0.333333</td>\n",
              "      <td>1.006079</td>\n",
              "      <td>1.048780</td>\n",
              "      <td>1.099526</td>\n",
              "      <td>34.066667</td>\n",
              "    </tr>\n",
              "    <tr>\n",
              "      <th>Population</th>\n",
              "      <td>20640.0</td>\n",
              "      <td>1425.476744</td>\n",
              "      <td>1132.462122</td>\n",
              "      <td>3.000000</td>\n",
              "      <td>787.000000</td>\n",
              "      <td>1166.000000</td>\n",
              "      <td>1725.000000</td>\n",
              "      <td>35682.000000</td>\n",
              "    </tr>\n",
              "    <tr>\n",
              "      <th>AveOccup</th>\n",
              "      <td>20640.0</td>\n",
              "      <td>3.070655</td>\n",
              "      <td>10.386050</td>\n",
              "      <td>0.692308</td>\n",
              "      <td>2.429741</td>\n",
              "      <td>2.818116</td>\n",
              "      <td>3.282261</td>\n",
              "      <td>1243.333333</td>\n",
              "    </tr>\n",
              "    <tr>\n",
              "      <th>Latitude</th>\n",
              "      <td>20640.0</td>\n",
              "      <td>35.631861</td>\n",
              "      <td>2.135952</td>\n",
              "      <td>32.540000</td>\n",
              "      <td>33.930000</td>\n",
              "      <td>34.260000</td>\n",
              "      <td>37.710000</td>\n",
              "      <td>41.950000</td>\n",
              "    </tr>\n",
              "    <tr>\n",
              "      <th>Longitude</th>\n",
              "      <td>20640.0</td>\n",
              "      <td>-119.569704</td>\n",
              "      <td>2.003532</td>\n",
              "      <td>-124.350000</td>\n",
              "      <td>-121.800000</td>\n",
              "      <td>-118.490000</td>\n",
              "      <td>-118.010000</td>\n",
              "      <td>-114.310000</td>\n",
              "    </tr>\n",
              "    <tr>\n",
              "      <th>target</th>\n",
              "      <td>20640.0</td>\n",
              "      <td>2.068558</td>\n",
              "      <td>1.153956</td>\n",
              "      <td>0.149990</td>\n",
              "      <td>1.196000</td>\n",
              "      <td>1.797000</td>\n",
              "      <td>2.647250</td>\n",
              "      <td>5.000010</td>\n",
              "    </tr>\n",
              "  </tbody>\n",
              "</table>\n",
              "</div>\n",
              "      <button class=\"colab-df-convert\" onclick=\"convertToInteractive('df-3960b30e-89e2-4abd-bdd5-94c79d26e5a7')\"\n",
              "              title=\"Convert this dataframe to an interactive table.\"\n",
              "              style=\"display:none;\">\n",
              "        \n",
              "  <svg xmlns=\"http://www.w3.org/2000/svg\" height=\"24px\"viewBox=\"0 0 24 24\"\n",
              "       width=\"24px\">\n",
              "    <path d=\"M0 0h24v24H0V0z\" fill=\"none\"/>\n",
              "    <path d=\"M18.56 5.44l.94 2.06.94-2.06 2.06-.94-2.06-.94-.94-2.06-.94 2.06-2.06.94zm-11 1L8.5 8.5l.94-2.06 2.06-.94-2.06-.94L8.5 2.5l-.94 2.06-2.06.94zm10 10l.94 2.06.94-2.06 2.06-.94-2.06-.94-.94-2.06-.94 2.06-2.06.94z\"/><path d=\"M17.41 7.96l-1.37-1.37c-.4-.4-.92-.59-1.43-.59-.52 0-1.04.2-1.43.59L10.3 9.45l-7.72 7.72c-.78.78-.78 2.05 0 2.83L4 21.41c.39.39.9.59 1.41.59.51 0 1.02-.2 1.41-.59l7.78-7.78 2.81-2.81c.8-.78.8-2.07 0-2.86zM5.41 20L4 18.59l7.72-7.72 1.47 1.35L5.41 20z\"/>\n",
              "  </svg>\n",
              "      </button>\n",
              "      \n",
              "  <style>\n",
              "    .colab-df-container {\n",
              "      display:flex;\n",
              "      flex-wrap:wrap;\n",
              "      gap: 12px;\n",
              "    }\n",
              "\n",
              "    .colab-df-convert {\n",
              "      background-color: #E8F0FE;\n",
              "      border: none;\n",
              "      border-radius: 50%;\n",
              "      cursor: pointer;\n",
              "      display: none;\n",
              "      fill: #1967D2;\n",
              "      height: 32px;\n",
              "      padding: 0 0 0 0;\n",
              "      width: 32px;\n",
              "    }\n",
              "\n",
              "    .colab-df-convert:hover {\n",
              "      background-color: #E2EBFA;\n",
              "      box-shadow: 0px 1px 2px rgba(60, 64, 67, 0.3), 0px 1px 3px 1px rgba(60, 64, 67, 0.15);\n",
              "      fill: #174EA6;\n",
              "    }\n",
              "\n",
              "    [theme=dark] .colab-df-convert {\n",
              "      background-color: #3B4455;\n",
              "      fill: #D2E3FC;\n",
              "    }\n",
              "\n",
              "    [theme=dark] .colab-df-convert:hover {\n",
              "      background-color: #434B5C;\n",
              "      box-shadow: 0px 1px 3px 1px rgba(0, 0, 0, 0.15);\n",
              "      filter: drop-shadow(0px 1px 2px rgba(0, 0, 0, 0.3));\n",
              "      fill: #FFFFFF;\n",
              "    }\n",
              "  </style>\n",
              "\n",
              "      <script>\n",
              "        const buttonEl =\n",
              "          document.querySelector('#df-3960b30e-89e2-4abd-bdd5-94c79d26e5a7 button.colab-df-convert');\n",
              "        buttonEl.style.display =\n",
              "          google.colab.kernel.accessAllowed ? 'block' : 'none';\n",
              "\n",
              "        async function convertToInteractive(key) {\n",
              "          const element = document.querySelector('#df-3960b30e-89e2-4abd-bdd5-94c79d26e5a7');\n",
              "          const dataTable =\n",
              "            await google.colab.kernel.invokeFunction('convertToInteractive',\n",
              "                                                     [key], {});\n",
              "          if (!dataTable) return;\n",
              "\n",
              "          const docLinkHtml = 'Like what you see? Visit the ' +\n",
              "            '<a target=\"_blank\" href=https://colab.research.google.com/notebooks/data_table.ipynb>data table notebook</a>'\n",
              "            + ' to learn more about interactive tables.';\n",
              "          element.innerHTML = '';\n",
              "          dataTable['output_type'] = 'display_data';\n",
              "          await google.colab.output.renderOutput(dataTable, element);\n",
              "          const docLink = document.createElement('div');\n",
              "          docLink.innerHTML = docLinkHtml;\n",
              "          element.appendChild(docLink);\n",
              "        }\n",
              "      </script>\n",
              "    </div>\n",
              "  </div>\n",
              "  "
            ],
            "text/plain": [
              "              count         mean  ...          75%           max\n",
              "MedInc      20640.0     3.870671  ...     4.743250     15.000100\n",
              "HouseAge    20640.0    28.639486  ...    37.000000     52.000000\n",
              "AveRooms    20640.0     5.429000  ...     6.052381    141.909091\n",
              "AveBedrms   20640.0     1.096675  ...     1.099526     34.066667\n",
              "Population  20640.0  1425.476744  ...  1725.000000  35682.000000\n",
              "AveOccup    20640.0     3.070655  ...     3.282261   1243.333333\n",
              "Latitude    20640.0    35.631861  ...    37.710000     41.950000\n",
              "Longitude   20640.0  -119.569704  ...  -118.010000   -114.310000\n",
              "target      20640.0     2.068558  ...     2.647250      5.000010\n",
              "\n",
              "[9 rows x 8 columns]"
            ]
          },
          "metadata": {},
          "execution_count": 126
        }
      ]
    },
    {
      "cell_type": "markdown",
      "source": [
        "As we can observe that the features of the dataset have higher difference in the 75% quartile range and the maximum value there must be outliers in the dataset."
      ],
      "metadata": {
        "id": "Z3TQzV9bAWpF"
      }
    },
    {
      "cell_type": "code",
      "source": [
        "features.columns"
      ],
      "metadata": {
        "colab": {
          "base_uri": "https://localhost:8080/"
        },
        "id": "_hKyLZM3lOHw",
        "outputId": "8a42bd7c-dcb3-483d-f883-5ee950c5993d"
      },
      "execution_count": null,
      "outputs": [
        {
          "output_type": "execute_result",
          "data": {
            "text/plain": [
              "Index(['MedInc', 'HouseAge', 'AveRooms', 'AveBedrms', 'Population', 'AveOccup',\n",
              "       'Latitude', 'Longitude'],\n",
              "      dtype='object')"
            ]
          },
          "metadata": {},
          "execution_count": 163
        }
      ]
    },
    {
      "cell_type": "code",
      "source": [
        "for i in range(len(features.columns)):\n",
        "  housing_df[features.columns[i]].plot(kind='box',figsize=(8,8),color='g')\n",
        "  plt.ylabel(\"Frequency\")\n",
        "  plt.show();"
      ],
      "metadata": {
        "colab": {
          "base_uri": "https://localhost:8080/",
          "height": 1000
        },
        "id": "_a_ujD_seu2R",
        "outputId": "f14bc215-310e-4ec5-e3b5-21131e5af4a6"
      },
      "execution_count": null,
      "outputs": [
        {
          "output_type": "display_data",
          "data": {
            "image/png": "[encoded data removed]",
            "text/plain": [
              "<Figure size 576x576 with 1 Axes>"
            ]
          },
          "metadata": {}
        },
        {
          "output_type": "display_data",
          "data": {
            "image/png": "[encoded data removed]",
            "text/plain": [
              "<Figure size 576x576 with 1 Axes>"
            ]
          },
          "metadata": {}
        },
        {
          "output_type": "display_data",
          "data": {
            "image/png": "[encoded data removed]",
            "text/plain": [
              "<Figure size 576x576 with 1 Axes>"
            ]
          },
          "metadata": {}
        },
        {
          "output_type": "display_data",
          "data": {
            "image/png": "[encoded data removed]",
            "text/plain": [
              "<Figure size 576x576 with 1 Axes>"
            ]
          },
          "metadata": {}
        },
        {
          "output_type": "display_data",
          "data": {
            "image/png": "[encoded data removed]",
            "text/plain": [
              "<Figure size 576x576 with 1 Axes>"
            ]
          },
          "metadata": {}
        },
        {
          "output_type": "display_data",
          "data": {
            "image/png": "[encoded data removed]",
            "text/plain": [
              "<Figure size 576x576 with 1 Axes>"
            ]
          },
          "metadata": {}
        },
        {
          "output_type": "display_data",
          "data": {
            "image/png": "[encoded data removed]",
            "text/plain": [
              "<Figure size 576x576 with 1 Axes>"
            ]
          },
          "metadata": {}
        },
        {
          "output_type": "display_data",
          "data": {
            "image/png": "[encoded data removed]",
            "text/plain": [
              "<Figure size 576x576 with 1 Axes>"
            ]
          },
          "metadata": {}
        }
      ]
    },
    {
      "cell_type": "code",
      "source": [
        "plt.figure(figsize=(8,8))\n",
        "plt.scatter(housing_df.target,housing_df.Population,color='salmon')\n",
        "plt.xlabel(\"Price (in Millions)\")\n",
        "plt.ylabel(\"Population\")\n",
        "plt.title(\"Population Wise Price Distribution\")\n",
        "plt.legend(['Population'])\n",
        "plt.show()"
      ],
      "metadata": {
        "colab": {
          "base_uri": "https://localhost:8080/",
          "height": 512
        },
        "id": "aoN366FxXMEK",
        "outputId": "8c0a85ad-589e-4b03-c83c-6c2a4e5cf7d7"
      },
      "execution_count": null,
      "outputs": [
        {
          "output_type": "display_data",
          "data": {
            "image/png": "[encoded data removed]",
            "text/plain": [
              "<Figure size 576x576 with 1 Axes>"
            ]
          },
          "metadata": {}
        }
      ]
    },
    {
      "cell_type": "code",
      "source": [
        "housing_df.Population.mean()"
      ],
      "metadata": {
        "colab": {
          "base_uri": "https://localhost:8080/"
        },
        "id": "XthQlexUYIye",
        "outputId": "cf2c2f40-8245-449b-c655-de26c3c6cad4"
      },
      "execution_count": null,
      "outputs": [
        {
          "output_type": "execute_result",
          "data": {
            "text/plain": [
              "1425.4767441860465"
            ]
          },
          "metadata": {},
          "execution_count": 130
        }
      ]
    },
    {
      "cell_type": "markdown",
      "source": [
        "From the above graph we can observe that the major population say above 5000 are residing where the house price is 2M."
      ],
      "metadata": {
        "id": "l66AmIVVawQW"
      }
    },
    {
      "cell_type": "code",
      "source": [
        "fea_n = housing_data[\"target\"].reshape(-1,1)\n",
        "fea_n"
      ],
      "metadata": {
        "colab": {
          "base_uri": "https://localhost:8080/"
        },
        "id": "4QJhMIemfW6V",
        "outputId": "a8a0043d-a638-4c4e-d0a8-f6593ab2ca35"
      },
      "execution_count": null,
      "outputs": [
        {
          "output_type": "execute_result",
          "data": {
            "text/plain": [
              "array([[4.526],\n",
              "       [3.585],\n",
              "       [3.521],\n",
              "       ...,\n",
              "       [0.923],\n",
              "       [0.847],\n",
              "       [0.894]])"
            ]
          },
          "metadata": {},
          "execution_count": 131
        }
      ]
    },
    {
      "cell_type": "code",
      "source": [
        "from sklearn.preprocessing import KBinsDiscretizer\n",
        "kbd = KBinsDiscretizer(n_bins=5, strategy='uniform', encode='ordinal')\n",
        "fea_n_kbd = kbd.fit_transform(fea_n)"
      ],
      "metadata": {
        "id": "jgVvKbQrg2f9"
      },
      "execution_count": null,
      "outputs": []
    },
    {
      "cell_type": "code",
      "source": [
        "fea_n_kbd"
      ],
      "metadata": {
        "colab": {
          "base_uri": "https://localhost:8080/"
        },
        "id": "HHg_WZpFhOk-",
        "outputId": "8692146e-4097-4a53-918a-dd0cd18d16a2"
      },
      "execution_count": null,
      "outputs": [
        {
          "output_type": "execute_result",
          "data": {
            "text/plain": [
              "array([[4.],\n",
              "       [3.],\n",
              "       [3.],\n",
              "       ...,\n",
              "       [0.],\n",
              "       [0.],\n",
              "       [0.]])"
            ]
          },
          "metadata": {},
          "execution_count": 133
        }
      ]
    },
    {
      "cell_type": "code",
      "source": [
        "pd.crosstab(housing_df['HouseAge'],fea_n_kbd.flatten()).plot(kind='hist',figsize=(8,8))\n",
        "plt.xlabel('House Age')\n",
        "plt.ylabel('No of Houses')\n",
        "plt.title('House Price vs House age distribution')\n",
        "plt.show();"
      ],
      "metadata": {
        "colab": {
          "base_uri": "https://localhost:8080/",
          "height": 512
        },
        "id": "AlcPNNXXzAV1",
        "outputId": "9f675df4-78c9-48e7-82dc-4f7804ef8484"
      },
      "execution_count": null,
      "outputs": [
        {
          "output_type": "display_data",
          "data": {
            "image/png": "[encoded data removed]",
            "text/plain": [
              "<Figure size 576x576 with 1 Axes>"
            ]
          },
          "metadata": {}
        }
      ]
    },
    {
      "cell_type": "markdown",
      "source": [
        "From the above Histogram we can observe that the House age between 0 to 50 years having House price of 4M are larger in frequency of about 50. The price of Old houses are relatively low as the histogram shows the relative decrease in the price as the age of house increases."
      ],
      "metadata": {
        "id": "yvK4EI451mSY"
      }
    },
    {
      "cell_type": "markdown",
      "source": [
        "###Step3:**Data Preprocessing and Model Exploration**"
      ],
      "metadata": {
        "id": "Lnt6oSRbCmZ9"
      }
    },
    {
      "cell_type": "code",
      "source": [
        "x = housing_df.drop(\"target\",axis=1)"
      ],
      "metadata": {
        "id": "QJOcuWBY5vhS"
      },
      "execution_count": null,
      "outputs": []
    },
    {
      "cell_type": "code",
      "source": [
        "y = housing_df[\"target\"]"
      ],
      "metadata": {
        "id": "tR1ubPTuDCIo"
      },
      "execution_count": null,
      "outputs": []
    },
    {
      "cell_type": "code",
      "source": [
        "print(f'Feature Samples {x.shape}')\n",
        "print(f'Label Samples {y.shape}')"
      ],
      "metadata": {
        "colab": {
          "base_uri": "https://localhost:8080/"
        },
        "id": "LRrMgsUiDF1o",
        "outputId": "b9760b6d-fc4b-4314-f2fe-260cd1148565"
      },
      "execution_count": null,
      "outputs": [
        {
          "output_type": "stream",
          "name": "stdout",
          "text": [
            "Feature Samples (20640, 8)\n",
            "Label Samples (20640,)\n"
          ]
        }
      ]
    },
    {
      "cell_type": "markdown",
      "source": [
        "Now that we have created feature matrix(x) and label vector(y) lets begin to split our feature and label set to train set and test set. The train set will be used to fit the model and do the preprocessing."
      ],
      "metadata": {
        "id": "L8lQx8veEgYl"
      }
    },
    {
      "cell_type": "code",
      "source": [
        "x_train,x_test,y_train,y_test = train_test_split(x,\n",
        "                                                 y,\n",
        "                                                 test_size=0.2,\n",
        "                                                 random_state=42)"
      ],
      "metadata": {
        "id": "PYKAfNIjDXuV"
      },
      "execution_count": null,
      "outputs": []
    },
    {
      "cell_type": "code",
      "source": [
        "print(f'Training Samples(Feature): {x_train.shape[0]}')\n",
        "print(f'Test Samples(Feature): {x_test.shape[0]}')"
      ],
      "metadata": {
        "colab": {
          "base_uri": "https://localhost:8080/"
        },
        "id": "tLtWYVt3D3Eq",
        "outputId": "6538136e-68e9-4688-ffe4-0ab34468509b"
      },
      "execution_count": null,
      "outputs": [
        {
          "output_type": "stream",
          "name": "stdout",
          "text": [
            "Training Samples(Feature): 16512\n",
            "Test Samples(Feature): 4128\n"
          ]
        }
      ]
    },
    {
      "cell_type": "markdown",
      "source": [
        "Now we will use pipeline API for building the model and carry out the feature scaling simultaneously.\n",
        "Some of the components of the pipeline are:\n",
        "```# \n",
        "*   StandardScaler\n",
        "*   LinearRegression\n",
        "```\n",
        "\n"
      ],
      "metadata": {
        "id": "08H9AvVhFITe"
      }
    },
    {
      "cell_type": "code",
      "source": [
        "from sklearn.pipeline import Pipeline\n",
        "lin_reg_pipeline = Pipeline([(\"feature scaling\", StandardScaler()),\n",
        "                             (\"Lin_reg\", LinearRegression(fit_intercept=True))])\n",
        "# Now training the Linear Regression model with Normal Equation\n",
        "lin_reg_pipeline.fit(x_train,y_train)"
      ],
      "metadata": {
        "id": "g2W6IBenEJ0z",
        "colab": {
          "base_uri": "https://localhost:8080/"
        },
        "outputId": "2da9e6a4-4bd7-4fb0-b98c-b64b4392e41f"
      },
      "execution_count": null,
      "outputs": [
        {
          "output_type": "execute_result",
          "data": {
            "text/plain": [
              "Pipeline(steps=[('feature scaling', StandardScaler()),\n",
              "                ('Lin_reg', LinearRegression())])"
            ]
          },
          "metadata": {},
          "execution_count": 140
        }
      ]
    },
    {
      "cell_type": "code",
      "source": [
        "print(f'Coefficient w_1,...w_n:{lin_reg_pipeline[-1].coef_}')\n",
        "print(f'Intercept w_0:{lin_reg_pipeline[-1].intercept_}')"
      ],
      "metadata": {
        "colab": {
          "base_uri": "https://localhost:8080/"
        },
        "id": "ZMiazVS4RNI1",
        "outputId": "d190c960-a55f-4d04-9301-99489b38e2ab"
      },
      "execution_count": null,
      "outputs": [
        {
          "output_type": "stream",
          "name": "stdout",
          "text": [
            "Coefficient w_1,...w_n:[ 0.85438303  0.12254624 -0.29441013  0.33925949 -0.00230772 -0.0408291\n",
            " -0.89692888 -0.86984178]\n",
            "Intercept w_0:2.0719469373788777\n"
          ]
        }
      ]
    },
    {
      "cell_type": "markdown",
      "source": [
        "###Step4: **Model Evaluation**"
      ],
      "metadata": {
        "id": "M5mA2zyQsuNo"
      }
    },
    {
      "cell_type": "code",
      "source": [
        "train_score = lin_reg_pipeline.score(x_train,y_train)\n",
        "print('Model performance on train set: ', train_score)\n",
        "test_score = lin_reg_pipeline.score(x_test,y_test)\n",
        "print('Model performance on test set: ', test_score)"
      ],
      "metadata": {
        "id": "NdUZ67F1Rpb_",
        "colab": {
          "base_uri": "https://localhost:8080/"
        },
        "outputId": "1b1c9bbe-342e-4898-9912-6c6bc999b280"
      },
      "execution_count": null,
      "outputs": [
        {
          "output_type": "stream",
          "name": "stdout",
          "text": [
            "Model performance on train set:  0.6125511913966952\n",
            "Model performance on test set:  0.575787706032451\n"
          ]
        }
      ]
    },
    {
      "cell_type": "markdown",
      "source": [
        "The `score` method returns the `r2 score` which can be maximum upto 1."
      ],
      "metadata": {
        "id": "TbxoqUkxsJF5"
      }
    },
    {
      "cell_type": "markdown",
      "source": [
        "####Cross Validation"
      ],
      "metadata": {
        "id": "VAylRFt9syYJ"
      }
    },
    {
      "cell_type": "code",
      "source": [
        "shuffle_split_cv = ShuffleSplit(n_splits=5, test_size=0.3,random_state=0)"
      ],
      "metadata": {
        "id": "_tqLsuGjthOB"
      },
      "execution_count": null,
      "outputs": []
    },
    {
      "cell_type": "code",
      "source": [
        "lin_reg_cv = cross_val_score(lin_reg_pipeline,x,y,scoring='neg_mean_squared_error',cv=shuffle_split_cv)\n",
        "print(lin_reg_cv)"
      ],
      "metadata": {
        "colab": {
          "base_uri": "https://localhost:8080/"
        },
        "id": "GwFNAsOnr9o7",
        "outputId": "62781710-c164-4a92-e0ea-2a4136aa68a2"
      },
      "execution_count": null,
      "outputs": [
        {
          "output_type": "stream",
          "name": "stdout",
          "text": [
            "[-0.54314897 -0.53795479 -0.54581882 -0.49224204 -0.52199088]\n"
          ]
        }
      ]
    },
    {
      "cell_type": "code",
      "source": [
        "print(f'score of linear regression model on the test set: {lin_reg_cv.mean():.3f} +/- {lin_reg_cv.std():.3f}')"
      ],
      "metadata": {
        "colab": {
          "base_uri": "https://localhost:8080/"
        },
        "id": "CU0VTQLBuElM",
        "outputId": "cc0aec40-0123-47f9-fd38-48a3dabbf187"
      },
      "execution_count": null,
      "outputs": [
        {
          "output_type": "stream",
          "name": "stdout",
          "text": [
            "score of linear regression model on the test set: -0.528 +/- 0.020\n"
          ]
        }
      ]
    },
    {
      "cell_type": "code",
      "source": [
        "lin_reg_mse = -lin_reg_cv\n",
        "print(f'mean_squared error of linear regression model on the test set: {lin_reg_mse.mean():.3f} +/- {lin_reg_mse.std():.3f}')"
      ],
      "metadata": {
        "colab": {
          "base_uri": "https://localhost:8080/"
        },
        "id": "jcwPtcRxuJAV",
        "outputId": "ba1c21a3-ab15-418c-948a-d37be5ae20e2"
      },
      "execution_count": null,
      "outputs": [
        {
          "output_type": "stream",
          "name": "stdout",
          "text": [
            "mean_squared error of linear regression model on the test set: 0.528 +/- 0.020\n"
          ]
        }
      ]
    },
    {
      "cell_type": "markdown",
      "source": [
        "Some of the important `scoring parameters` used in `linear regression` model are:\n",
        "\n",
        "\n",
        "*   r2_score\n",
        "*   neg_mean_squared_error\n",
        "*   neg_mean_absolute_error\n",
        "*   neg_mean_squared_log_error\n",
        "*   neg_root_mean_squared_error\n",
        "*   explained_variance\n",
        "*   neg_mean_absolute_percentage_error\n",
        "*   neg_median_absolute_error\n",
        "*   max_error\n",
        "\n"
      ],
      "metadata": {
        "id": "DPTo2sNjvJ3W"
      }
    },
    {
      "cell_type": "markdown",
      "source": [
        "####Cross_validate"
      ],
      "metadata": {
        "id": "4P80IXG2wPti"
      }
    },
    {
      "cell_type": "code",
      "source": [
        "lin_reg_cv_re = cross_validate(lin_reg_pipeline,\n",
        "                               x,y,\n",
        "                               scoring='neg_mean_squared_error',\n",
        "                               cv=shuffle_split_cv,\n",
        "                               return_train_score=True,\n",
        "                               return_estimator=True)\n"
      ],
      "metadata": {
        "id": "_fEPIEtsu7QN"
      },
      "execution_count": null,
      "outputs": []
    },
    {
      "cell_type": "markdown",
      "source": [
        "`cross_validate` returns a dictionary with the following contents:\n",
        "\n",
        "\n",
        "1.   Test_score\n",
        "2.   Train_score\n",
        "3.   Estimator Used\n",
        "4.   Fit time\n",
        "5.   Score time\n",
        "\n",
        "Now let us see the dictionary returned by the cross validate:-\n",
        "\n"
      ],
      "metadata": {
        "id": "883hqJB1w0rV"
      }
    },
    {
      "cell_type": "code",
      "source": [
        "lin_reg_cv_re"
      ],
      "metadata": {
        "colab": {
          "base_uri": "https://localhost:8080/"
        },
        "id": "zng95xEhwnNG",
        "outputId": "c316d9cf-4f9d-469f-c818-c7c3877388be"
      },
      "execution_count": null,
      "outputs": [
        {
          "output_type": "execute_result",
          "data": {
            "text/plain": [
              "{'estimator': [Pipeline(steps=[('feature scaling', StandardScaler()),\n",
              "                  ('Lin_reg', LinearRegression())]),\n",
              "  Pipeline(steps=[('feature scaling', StandardScaler()),\n",
              "                  ('Lin_reg', LinearRegression())]),\n",
              "  Pipeline(steps=[('feature scaling', StandardScaler()),\n",
              "                  ('Lin_reg', LinearRegression())]),\n",
              "  Pipeline(steps=[('feature scaling', StandardScaler()),\n",
              "                  ('Lin_reg', LinearRegression())]),\n",
              "  Pipeline(steps=[('feature scaling', StandardScaler()),\n",
              "                  ('Lin_reg', LinearRegression())])],\n",
              " 'fit_time': array([0.03946805, 0.01834059, 0.01875114, 0.01851869, 0.02782488]),\n",
              " 'score_time': array([0.01185417, 0.00443244, 0.00472498, 0.00608706, 0.02336025]),\n",
              " 'test_score': array([-0.54314897, -0.53795479, -0.54581882, -0.49224204, -0.52199088]),\n",
              " 'train_score': array([-0.51730034, -0.52085193, -0.52068754, -0.53855437, -0.52636495])}"
            ]
          },
          "metadata": {},
          "execution_count": 148
        }
      ]
    },
    {
      "cell_type": "code",
      "source": [
        "train_score_cv_re = lin_reg_cv_re['train_score']\n",
        "print(f\"Train score on the Linear regression model: {train_score_cv_re.mean():.3f} +/- {train_score_cv_re.std():.3f}\")\n",
        "test_score_cv_re = lin_reg_cv_re['test_score']\n",
        "print(f\"Test score on the linear regression model: {test_score_cv_re.mean():.3f} +/- {test_score_cv_re.std():.3f}\")"
      ],
      "metadata": {
        "colab": {
          "base_uri": "https://localhost:8080/"
        },
        "id": "z2OAAD50xWJY",
        "outputId": "959dcc7a-18d4-499e-e5db-be612c7e879a"
      },
      "execution_count": null,
      "outputs": [
        {
          "output_type": "stream",
          "name": "stdout",
          "text": [
            "Train score on the Linear regression model: -0.525 +/- 0.007\n",
            "Test score on the linear regression model: -0.528 +/- 0.020\n"
          ]
        }
      ]
    },
    {
      "cell_type": "code",
      "source": [
        "train_mse_cv_re = -lin_reg_cv_re['train_score']\n",
        "print(f\"Mean squared error of Linear regression model on the train set: {train_mse_cv_re.mean():.3f} +/- {train_mse_cv_re.std():.3f}\")\n",
        "test_mse_cv_re = -lin_reg_cv_re['test_score']\n",
        "print(f\"Mean squared error of Linear regression model on the test set: {test_mse_cv_re.mean():.3f} +/- {test_mse_cv_re.std():.3f}\")\n"
      ],
      "metadata": {
        "colab": {
          "base_uri": "https://localhost:8080/"
        },
        "id": "C1zplPVMxy2w",
        "outputId": "5bbbf3e4-3a8e-4aff-e77e-01be85315ebc"
      },
      "execution_count": null,
      "outputs": [
        {
          "output_type": "stream",
          "name": "stdout",
          "text": [
            "Mean squared error of Linear regression model on the train set: 0.525 +/- 0.007\n",
            "Mean squared error of Linear regression model on the test set: 0.528 +/- 0.020\n"
          ]
        }
      ]
    },
    {
      "cell_type": "markdown",
      "source": [
        "####Learning Curve"
      ],
      "metadata": {
        "id": "wV-JqfhV17wv"
      }
    },
    {
      "cell_type": "code",
      "source": [
        "# function for plotting a learning curve\n",
        "def plot_learning_curve(train_sizes,train_scores,test_scores,fit_times):\n",
        "\n",
        "  train_scores_mean = np.mean(-train_scores, axis=1)\n",
        "  test_scores_mean = np.mean(-test_scores, axis=1)\n",
        "  train_scores_std = np.std(-train_scores, axis=1)\n",
        "  test_scores_std = np.std(-test_scores, axis=1)\n",
        "  fit_times_mean = np.mean(fit_times, axis=1)\n",
        "  fit_times_std = np.std(fit_times, axis=1)\n",
        "\n",
        "  plt.plot(train_sizes,train_scores_mean,\"o-\",color='r',label=\"training_score\")\n",
        "  plt.plot(train_sizes,test_scores_mean,\"o-\",color='g',label='cross_validation_score')\n",
        "  plt.xlabel(\"Training Examples\")\n",
        "  plt.ylabel(\"MSE\")\n",
        "  plt.legend(loc=\"best\")\n",
        "  return"
      ],
      "metadata": {
        "id": "yuGFrs5BzWXi"
      },
      "execution_count": null,
      "outputs": []
    },
    {
      "cell_type": "code",
      "source": [
        "(train_sizes,train_scores,test_scores,fit_times,score_times) = learning_curve(lin_reg_pipeline,\n",
        "                                                                              x,\n",
        "                                                                              y,\n",
        "                                                                              cv=shuffle_split_cv,\n",
        "                                                                              scoring=\"neg_mean_squared_error\",\n",
        "                                                                              return_times=True,\n",
        "                                                                              train_sizes=np.linspace(0.2,1.0,10))"
      ],
      "metadata": {
        "id": "Co389Cog-45f"
      },
      "execution_count": null,
      "outputs": []
    },
    {
      "cell_type": "code",
      "source": [
        "plot_learning_curve(train_sizes,train_scores,test_scores,fit_times)"
      ],
      "metadata": {
        "colab": {
          "base_uri": "https://localhost:8080/",
          "height": 361
        },
        "id": "aRgdKTCrANow",
        "outputId": "8b7670ba-e9e3-404f-cfeb-9302a09b13b3"
      },
      "execution_count": null,
      "outputs": [
        {
          "output_type": "display_data",
          "data": {
            "image/png": "[encoded data removed]",
            "text/plain": [
              "<Figure size 576x396 with 1 Axes>"
            ]
          },
          "metadata": {}
        }
      ]
    },
    {
      "cell_type": "code",
      "source": [
        "def plot_scalability_curve(fit_times,train_sizes):\n",
        "  plt.plot(train_sizes,np.mean(fit_times,axis=1),\"o-\",color='b')\n",
        "  plt.xlabel(\"Training examples\")\n",
        "  plt.ylabel(\"Fit times\")\n",
        "  plt.legend(loc=\"best\")\n",
        "  plt.title(\"Scalability of the model\")\n",
        "  return\n"
      ],
      "metadata": {
        "id": "aHUh8uetAowB"
      },
      "execution_count": null,
      "outputs": []
    },
    {
      "cell_type": "code",
      "source": [
        "plot_scalability_curve(fit_times,train_sizes)"
      ],
      "metadata": {
        "colab": {
          "base_uri": "https://localhost:8080/",
          "height": 393
        },
        "id": "m_g-tcY_9Fs2",
        "outputId": "2d786042-0164-4bc9-e7c8-f382f324ca01"
      },
      "execution_count": null,
      "outputs": [
        {
          "output_type": "stream",
          "name": "stderr",
          "text": [
            "No handles with labels found to put in legend.\n"
          ]
        },
        {
          "output_type": "display_data",
          "data": {
            "image/png": "[encoded data removed]",
            "text/plain": [
              "<Figure size 576x396 with 1 Axes>"
            ]
          },
          "metadata": {}
        }
      ]
    },
    {
      "cell_type": "markdown",
      "source": [
        "####Examining the model"
      ],
      "metadata": {
        "id": "sagyJAz9-MZ3"
      }
    },
    {
      "cell_type": "code",
      "source": [
        "features_names = x.columns\n",
        "features_names"
      ],
      "metadata": {
        "colab": {
          "base_uri": "https://localhost:8080/"
        },
        "id": "uuMPHhbF9M2r",
        "outputId": "90756b93-080a-4ac6-acd2-6908d444ec66"
      },
      "execution_count": null,
      "outputs": [
        {
          "output_type": "execute_result",
          "data": {
            "text/plain": [
              "Index(['MedInc', 'HouseAge', 'AveRooms', 'AveBedrms', 'Population', 'AveOccup',\n",
              "       'Latitude', 'Longitude'],\n",
              "      dtype='object')"
            ]
          },
          "metadata": {},
          "execution_count": 156
        }
      ]
    },
    {
      "cell_type": "code",
      "source": [
        "weights_diff = [est[-1].coef_ for est in lin_reg_cv_re['estimator']]\n",
        "weights_diff"
      ],
      "metadata": {
        "id": "AGG0ybsR-TPj",
        "colab": {
          "base_uri": "https://localhost:8080/"
        },
        "outputId": "e5cb13d0-c709-4cb1-cef9-fc3d13c07e40"
      },
      "execution_count": null,
      "outputs": [
        {
          "output_type": "execute_result",
          "data": {
            "text/plain": [
              "[array([ 0.84489085,  0.1156853 , -0.27019687,  0.29078838, -0.0107715 ,\n",
              "        -0.02805796, -0.8753289 , -0.84959869]),\n",
              " array([ 0.81946748,  0.12209911, -0.25869926,  0.30760453, -0.00374361,\n",
              "        -0.04079515, -0.89789462, -0.86713954]),\n",
              " array([ 0.8451958 ,  0.11602956, -0.29562437,  0.34768769, -0.00227834,\n",
              "        -0.03583966, -0.89643528, -0.86918065]),\n",
              " array([ 0.81776639,  0.11686949, -0.26625961,  0.30920021, -0.0087943 ,\n",
              "        -0.0464042 , -0.92724922, -0.89142844]),\n",
              " array([ 0.83293751,  0.1196346 , -0.26798769,  0.29028308, -0.00520816,\n",
              "        -0.02907631, -0.88012067, -0.85675738])]"
            ]
          },
          "metadata": {},
          "execution_count": 157
        }
      ]
    },
    {
      "cell_type": "code",
      "source": [
        "weights_diff_df = pd.DataFrame(weights_diff,columns=features_names)\n",
        "weights_diff_df.index+=1\n",
        "weights_diff_df"
      ],
      "metadata": {
        "colab": {
          "base_uri": "https://localhost:8080/",
          "height": 206
        },
        "id": "8aO8bQTCAe7J",
        "outputId": "f8fd6421-8d69-4e05-8347-95bdb27057e3"
      },
      "execution_count": null,
      "outputs": [
        {
          "output_type": "execute_result",
          "data": {
            "text/html": [
              "\n",
              "  <div id=\"df-1fb312fe-e980-45a7-b18c-d596e4fec057\">\n",
              "    <div class=\"colab-df-container\">\n",
              "      <div>\n",
              "<style scoped>\n",
              "    .dataframe tbody tr th:only-of-type {\n",
              "        vertical-align: middle;\n",
              "    }\n",
              "\n",
              "    .dataframe tbody tr th {\n",
              "        vertical-align: top;\n",
              "    }\n",
              "\n",
              "    .dataframe thead th {\n",
              "        text-align: right;\n",
              "    }\n",
              "</style>\n",
              "<table border=\"1\" class=\"dataframe\">\n",
              "  <thead>\n",
              "    <tr style=\"text-align: right;\">\n",
              "      <th></th>\n",
              "      <th>MedInc</th>\n",
              "      <th>HouseAge</th>\n",
              "      <th>AveRooms</th>\n",
              "      <th>AveBedrms</th>\n",
              "      <th>Population</th>\n",
              "      <th>AveOccup</th>\n",
              "      <th>Latitude</th>\n",
              "      <th>Longitude</th>\n",
              "    </tr>\n",
              "  </thead>\n",
              "  <tbody>\n",
              "    <tr>\n",
              "      <th>1</th>\n",
              "      <td>0.844891</td>\n",
              "      <td>0.115685</td>\n",
              "      <td>-0.270197</td>\n",
              "      <td>0.290788</td>\n",
              "      <td>-0.010771</td>\n",
              "      <td>-0.028058</td>\n",
              "      <td>-0.875329</td>\n",
              "      <td>-0.849599</td>\n",
              "    </tr>\n",
              "    <tr>\n",
              "      <th>2</th>\n",
              "      <td>0.819467</td>\n",
              "      <td>0.122099</td>\n",
              "      <td>-0.258699</td>\n",
              "      <td>0.307605</td>\n",
              "      <td>-0.003744</td>\n",
              "      <td>-0.040795</td>\n",
              "      <td>-0.897895</td>\n",
              "      <td>-0.867140</td>\n",
              "    </tr>\n",
              "    <tr>\n",
              "      <th>3</th>\n",
              "      <td>0.845196</td>\n",
              "      <td>0.116030</td>\n",
              "      <td>-0.295624</td>\n",
              "      <td>0.347688</td>\n",
              "      <td>-0.002278</td>\n",
              "      <td>-0.035840</td>\n",
              "      <td>-0.896435</td>\n",
              "      <td>-0.869181</td>\n",
              "    </tr>\n",
              "    <tr>\n",
              "      <th>4</th>\n",
              "      <td>0.817766</td>\n",
              "      <td>0.116869</td>\n",
              "      <td>-0.266260</td>\n",
              "      <td>0.309200</td>\n",
              "      <td>-0.008794</td>\n",
              "      <td>-0.046404</td>\n",
              "      <td>-0.927249</td>\n",
              "      <td>-0.891428</td>\n",
              "    </tr>\n",
              "    <tr>\n",
              "      <th>5</th>\n",
              "      <td>0.832938</td>\n",
              "      <td>0.119635</td>\n",
              "      <td>-0.267988</td>\n",
              "      <td>0.290283</td>\n",
              "      <td>-0.005208</td>\n",
              "      <td>-0.029076</td>\n",
              "      <td>-0.880121</td>\n",
              "      <td>-0.856757</td>\n",
              "    </tr>\n",
              "  </tbody>\n",
              "</table>\n",
              "</div>\n",
              "      <button class=\"colab-df-convert\" onclick=\"convertToInteractive('df-1fb312fe-e980-45a7-b18c-d596e4fec057')\"\n",
              "              title=\"Convert this dataframe to an interactive table.\"\n",
              "              style=\"display:none;\">\n",
              "        \n",
              "  <svg xmlns=\"http://www.w3.org/2000/svg\" height=\"24px\"viewBox=\"0 0 24 24\"\n",
              "       width=\"24px\">\n",
              "    <path d=\"M0 0h24v24H0V0z\" fill=\"none\"/>\n",
              "    <path d=\"M18.56 5.44l.94 2.06.94-2.06 2.06-.94-2.06-.94-.94-2.06-.94 2.06-2.06.94zm-11 1L8.5 8.5l.94-2.06 2.06-.94-2.06-.94L8.5 2.5l-.94 2.06-2.06.94zm10 10l.94 2.06.94-2.06 2.06-.94-2.06-.94-.94-2.06-.94 2.06-2.06.94z\"/><path d=\"M17.41 7.96l-1.37-1.37c-.4-.4-.92-.59-1.43-.59-.52 0-1.04.2-1.43.59L10.3 9.45l-7.72 7.72c-.78.78-.78 2.05 0 2.83L4 21.41c.39.39.9.59 1.41.59.51 0 1.02-.2 1.41-.59l7.78-7.78 2.81-2.81c.8-.78.8-2.07 0-2.86zM5.41 20L4 18.59l7.72-7.72 1.47 1.35L5.41 20z\"/>\n",
              "  </svg>\n",
              "      </button>\n",
              "      \n",
              "  <style>\n",
              "    .colab-df-container {\n",
              "      display:flex;\n",
              "      flex-wrap:wrap;\n",
              "      gap: 12px;\n",
              "    }\n",
              "\n",
              "    .colab-df-convert {\n",
              "      background-color: #E8F0FE;\n",
              "      border: none;\n",
              "      border-radius: 50%;\n",
              "      cursor: pointer;\n",
              "      display: none;\n",
              "      fill: #1967D2;\n",
              "      height: 32px;\n",
              "      padding: 0 0 0 0;\n",
              "      width: 32px;\n",
              "    }\n",
              "\n",
              "    .colab-df-convert:hover {\n",
              "      background-color: #E2EBFA;\n",
              "      box-shadow: 0px 1px 2px rgba(60, 64, 67, 0.3), 0px 1px 3px 1px rgba(60, 64, 67, 0.15);\n",
              "      fill: #174EA6;\n",
              "    }\n",
              "\n",
              "    [theme=dark] .colab-df-convert {\n",
              "      background-color: #3B4455;\n",
              "      fill: #D2E3FC;\n",
              "    }\n",
              "\n",
              "    [theme=dark] .colab-df-convert:hover {\n",
              "      background-color: #434B5C;\n",
              "      box-shadow: 0px 1px 3px 1px rgba(0, 0, 0, 0.15);\n",
              "      filter: drop-shadow(0px 1px 2px rgba(0, 0, 0, 0.3));\n",
              "      fill: #FFFFFF;\n",
              "    }\n",
              "  </style>\n",
              "\n",
              "      <script>\n",
              "        const buttonEl =\n",
              "          document.querySelector('#df-1fb312fe-e980-45a7-b18c-d596e4fec057 button.colab-df-convert');\n",
              "        buttonEl.style.display =\n",
              "          google.colab.kernel.accessAllowed ? 'block' : 'none';\n",
              "\n",
              "        async function convertToInteractive(key) {\n",
              "          const element = document.querySelector('#df-1fb312fe-e980-45a7-b18c-d596e4fec057');\n",
              "          const dataTable =\n",
              "            await google.colab.kernel.invokeFunction('convertToInteractive',\n",
              "                                                     [key], {});\n",
              "          if (!dataTable) return;\n",
              "\n",
              "          const docLinkHtml = 'Like what you see? Visit the ' +\n",
              "            '<a target=\"_blank\" href=https://colab.research.google.com/notebooks/data_table.ipynb>data table notebook</a>'\n",
              "            + ' to learn more about interactive tables.';\n",
              "          element.innerHTML = '';\n",
              "          dataTable['output_type'] = 'display_data';\n",
              "          await google.colab.output.renderOutput(dataTable, element);\n",
              "          const docLink = document.createElement('div');\n",
              "          docLink.innerHTML = docLinkHtml;\n",
              "          element.appendChild(docLink);\n",
              "        }\n",
              "      </script>\n",
              "    </div>\n",
              "  </div>\n",
              "  "
            ],
            "text/plain": [
              "     MedInc  HouseAge  AveRooms  ...  AveOccup  Latitude  Longitude\n",
              "1  0.844891  0.115685 -0.270197  ... -0.028058 -0.875329  -0.849599\n",
              "2  0.819467  0.122099 -0.258699  ... -0.040795 -0.897895  -0.867140\n",
              "3  0.845196  0.116030 -0.295624  ... -0.035840 -0.896435  -0.869181\n",
              "4  0.817766  0.116869 -0.266260  ... -0.046404 -0.927249  -0.891428\n",
              "5  0.832938  0.119635 -0.267988  ... -0.029076 -0.880121  -0.856757\n",
              "\n",
              "[5 rows x 8 columns]"
            ]
          },
          "metadata": {},
          "execution_count": 158
        }
      ]
    },
    {
      "cell_type": "code",
      "source": [
        "weights_diff_df.plot(kind='box',figsize=(8,8),color='blue',vert=False)\n",
        "plt.xlabel(\"weights difference\")\n",
        "plt.ylabel(\"Features\")\n",
        "plt.legend([\"weights diff\"],loc=\"best\")\n",
        "plt.title(\"Weights Difference vs Estimators\")\n",
        "plt.show()"
      ],
      "metadata": {
        "colab": {
          "base_uri": "https://localhost:8080/",
          "height": 512
        },
        "id": "MJ6t96GGAzuf",
        "outputId": "a26ae227-a729-412b-e1a9-7510224e2897"
      },
      "execution_count": null,
      "outputs": [
        {
          "output_type": "display_data",
          "data": {
            "image/png": "[encoded data removed]",
            "text/plain": [
              "<Figure size 576x576 with 1 Axes>"
            ]
          },
          "metadata": {}
        }
      ]
    },
    {
      "cell_type": "code",
      "source": [
        "for i in range(len(features_names)):\n",
        "  weights_diff_df[features_names[i]].plot(kind='box',figsize=(8,8),color='green')\n",
        "  plt.ylabel(\"weights difference\")\n",
        "  plt.legend([\"weights diff\"],loc=\"best\")\n",
        "  plt.title(\"Weights Difference vs Estimators\")\n",
        "  plt.show();"
      ],
      "metadata": {
        "colab": {
          "base_uri": "https://localhost:8080/",
          "height": 1000
        },
        "id": "OFPnX7IoCJ2t",
        "outputId": "1c6f78aa-1f5d-4994-cc82-107cad19e5cb"
      },
      "execution_count": null,
      "outputs": [
        {
          "output_type": "display_data",
          "data": {
            "image/png": "[encoded data removed]",
            "text/plain": [
              "<Figure size 576x576 with 1 Axes>"
            ]
          },
          "metadata": {}
        },
        {
          "output_type": "display_data",
          "data": {
            "image/png": "[encoded data removed]",
            "text/plain": [
              "<Figure size 576x576 with 1 Axes>"
            ]
          },
          "metadata": {}
        },
        {
          "output_type": "display_data",
          "data": {
            "image/png": "[encoded data removed]",
            "text/plain": [
              "<Figure size 576x576 with 1 Axes>"
            ]
          },
          "metadata": {}
        },
        {
          "output_type": "display_data",
          "data": {
            "image/png": "[encoded data removed]",
            "text/plain": [
              "<Figure size 576x576 with 1 Axes>"
            ]
          },
          "metadata": {}
        },
        {
          "output_type": "display_data",
          "data": {
            "image/png": "[encoded data removed]",
            "text/plain": [
              "<Figure size 576x576 with 1 Axes>"
            ]
          },
          "metadata": {}
        },
        {
          "output_type": "display_data",
          "data": {
            "image/png": "[encoded data removed]",
            "text/plain": [
              "<Figure size 576x576 with 1 Axes>"
            ]
          },
          "metadata": {}
        },
        {
          "output_type": "display_data",
          "data": {
            "image/png": "[encoded data removed]",
            "text/plain": [
              "<Figure size 576x576 with 1 Axes>"
            ]
          },
          "metadata": {}
        },
        {
          "output_type": "display_data",
          "data": {
            "image/png": "[encoded data removed]",
            "text/plain": [
              "<Figure size 576x576 with 1 Axes>"
            ]
          },
          "metadata": {}
        }
      ]
    },
    {
      "cell_type": "markdown",
      "source": [
        "####Selecting Best Model\n",
        "Now lets Select the best model evaluated using cross validation..."
      ],
      "metadata": {
        "id": "UR7SeJHFo3Ps"
      }
    },
    {
      "cell_type": "code",
      "source": [
        "# Model which evaluates lowest cross validated error on test set\n",
        "best_model_index = np.argmin(test_mse_cv_re)\n",
        "best_model = lin_reg_cv_re[\"estimator\"][best_model_index]"
      ],
      "metadata": {
        "id": "3H8WSX_rImoT"
      },
      "execution_count": null,
      "outputs": []
    },
    {
      "cell_type": "code",
      "source": [
        "# Coefficients and Intercepts used in the best selected model.\n",
        "best_model_coef = best_model[-1].coef_\n",
        "print(f\"Coefficient of the best selected model is: {best_model_coef}\")\n",
        "best_model_intercept = best_model[-1].intercept_\n",
        "print(f\"Intercept of the best selected model is: {best_model_intercept}\")"
      ],
      "metadata": {
        "colab": {
          "base_uri": "https://localhost:8080/"
        },
        "id": "o0krTvflp7UH",
        "outputId": "bf8eda67-cd63-4d4c-c880-38a4e655158f"
      },
      "execution_count": null,
      "outputs": [
        {
          "output_type": "stream",
          "name": "stdout",
          "text": [
            "Coefficient of the best selected model is: [ 0.81776639  0.11686949 -0.26625961  0.30920021 -0.0087943  -0.0464042\n",
            " -0.92724922 -0.89142844]\n",
            "Intercept of the best selected model is: 2.0673835022148377\n"
          ]
        }
      ]
    },
    {
      "cell_type": "markdown",
      "source": [
        "####Model Performance\n",
        "Now let's get to the value predicted by our model using cross validation..."
      ],
      "metadata": {
        "id": "Xmxq9EBvrU7p"
      }
    },
    {
      "cell_type": "code",
      "source": [
        "cv_pred = cross_val_predict(lin_reg_pipeline,x_train,y_train)\n",
        "cv_pred"
      ],
      "metadata": {
        "colab": {
          "base_uri": "https://localhost:8080/"
        },
        "id": "cVlXFsoNrDze",
        "outputId": "fd82c4d3-d369-4e47-f8a2-c668f4b3f7e6"
      },
      "execution_count": null,
      "outputs": [
        {
          "output_type": "execute_result",
          "data": {
            "text/plain": [
              "array([1.93775944, 2.47741265, 2.65605484, ..., 2.0417395 , 2.83974766,\n",
              "       2.26927572])"
            ]
          },
          "metadata": {},
          "execution_count": 182
        }
      ]
    },
    {
      "cell_type": "code",
      "source": [
        "mse_cv = mean_squared_error(y_train,cv_pred)\n",
        "plt.scatter(y_train,cv_pred,color=\"salmon\")\n",
        "plt.plot(y_train,y_train,\"r-\",color=\"green\")\n",
        "plt.xlabel(\"Actual Price\")\n",
        "plt.ylabel(\"Predicted Price\")\n",
        "plt.title(f\"Mean Squared Error: {mse_cv:.3f}\")\n",
        "plt.show()"
      ],
      "metadata": {
        "colab": {
          "base_uri": "https://localhost:8080/",
          "height": 376
        },
        "id": "Rl_Wz3fWsrKZ",
        "outputId": "88bdc62f-971c-40fe-d1d7-853cde3bbe80"
      },
      "execution_count": null,
      "outputs": [
        {
          "output_type": "display_data",
          "data": {
            "image/png": "[encoded data removed]",
            "text/plain": [
              "<Figure size 576x396 with 1 Axes>"
            ]
          },
          "metadata": {}
        }
      ]
    },
    {
      "cell_type": "markdown",
      "source": [
        "\n",
        "\n",
        "1.   The model seems tobe all over the placein its prediction for example with label 5.\n",
        "2.   There are some negative predictions. We can fix this by adding constraints on the weights to be positive.\n",
        "\n",
        "At this stage, we should perform error analysis and check where are prediction are going wrong. We can revisit feature construction,preprocessing or model stages and make the necessary course correction to get better performance.\n",
        "\n"
      ],
      "metadata": {
        "id": "j6RWTTEavu6r"
      }
    },
    {
      "cell_type": "markdown",
      "source": [
        "### Step5: **Predictions**"
      ],
      "metadata": {
        "id": "xCaouQ8JwxHk"
      }
    },
    {
      "cell_type": "markdown",
      "source": [
        "Using the best model performance from cross validation for getting the prediction on the test set."
      ],
      "metadata": {
        "id": "9bOQPx3LxLWM"
      }
    },
    {
      "cell_type": "code",
      "source": [
        "best_model_pred = best_model.predict(x_test)\n",
        "best_model_pred"
      ],
      "metadata": {
        "colab": {
          "base_uri": "https://localhost:8080/"
        },
        "id": "Tjtn6rUluY7T",
        "outputId": "6efd70dc-88cb-46ec-df3c-9d7df7de2b73"
      },
      "execution_count": null,
      "outputs": [
        {
          "output_type": "execute_result",
          "data": {
            "text/plain": [
              "array([0.7428291 , 1.77329866, 2.66726463, ..., 4.42609721, 1.21453476,\n",
              "       2.00660735])"
            ]
          },
          "metadata": {},
          "execution_count": 194
        }
      ]
    },
    {
      "cell_type": "markdown",
      "source": [
        "Using the initial model performance  for getting the prediction on the test set."
      ],
      "metadata": {
        "id": "3-tib-hExwYV"
      }
    },
    {
      "cell_type": "code",
      "source": [
        "init_model = lin_reg_pipeline.predict(x_test)\n",
        "init_model"
      ],
      "metadata": {
        "colab": {
          "base_uri": "https://localhost:8080/"
        },
        "id": "pt3oQHpvxsVq",
        "outputId": "28ae117e-76f8-4e2f-f902-c3233bf2bc3d"
      },
      "execution_count": null,
      "outputs": [
        {
          "output_type": "execute_result",
          "data": {
            "text/plain": [
              "array([0.71912284, 1.76401657, 2.70965883, ..., 4.46877017, 1.18751119,\n",
              "       2.00940251])"
            ]
          },
          "metadata": {},
          "execution_count": 195
        }
      ]
    },
    {
      "cell_type": "markdown",
      "source": [
        "###Step6: **Model Performance**"
      ],
      "metadata": {
        "id": "15TZn6x9zAoJ"
      }
    },
    {
      "cell_type": "code",
      "source": [
        "cv_score = best_model.score(x_test,y_test)\n",
        "score = lin_reg_pipeline.score(x_test,y_test)\n",
        "print(f\"R2 score using best model via Cross Validation: {cv_score*100:.2f}%\")\n",
        "print(f\"R2 score using the model without Cross validation: {score*100:.2f}%\")"
      ],
      "metadata": {
        "colab": {
          "base_uri": "https://localhost:8080/"
        },
        "id": "25rTxMB5x_zX",
        "outputId": "b4bafbf8-41aa-42de-9e36-908f830b0492"
      },
      "execution_count": null,
      "outputs": [
        {
          "output_type": "stream",
          "name": "stdout",
          "text": [
            "R2 score using best model via Cross Validation: 58.51%\n",
            "R2 score using the model without Cross validation: 57.58%\n"
          ]
        }
      ]
    },
    {
      "cell_type": "markdown",
      "source": [
        "So from this we can conclude that the performance of the model selected via cross validation is slightly higher than other models.\n",
        "Hence, the above selected model can be used for prediction of the house price.\n",
        "###Thank You!"
      ],
      "metadata": {
        "id": "JiT9cAHF0KQi"
      }
    }
  ]
}