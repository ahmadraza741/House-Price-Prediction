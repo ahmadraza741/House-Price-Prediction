{
  "nbformat": 4,
  "nbformat_minor": 0,
  "metadata": {
    "colab": {
      "name": "House price prediction(SGDRegressor).ipynb",
      "provenance": [],
      "collapsed_sections": [],
      "authorship_tag": "ABX9TyMCqy17TZevy+HK3W9D0OBk",
      "include_colab_link": true
    },
    "kernelspec": {
      "name": "python3",
      "display_name": "Python 3"
    },
    "language_info": {
      "name": "python"
    }
  },
  "cells": [
    {
      "cell_type": "markdown",
      "metadata": {
        "id": "view-in-github",
        "colab_type": "text"
      },
      "source": [
        "<a href=\"https://colab.research.google.com/github/ahmadraza741/House-Price-Prediction/blob/main/House_price_prediction(SGDRegressor).ipynb\" target=\"_parent\"><img src=\"https://colab.research.google.com/assets/colab-badge.svg\" alt=\"Open In Colab\"/></a>"
      ]
    },
    {
      "cell_type": "markdown",
      "source": [
        "# **House Price Prediction with SGDRegressor**\n"
      ],
      "metadata": {
        "id": "V67BLz7BhLgr"
      }
    },
    {
      "cell_type": "markdown",
      "source": [
        "This is the project done on california housing dataset for the prediction of the house price with the Stochastic Gradient Descent(SGD) SGDRegressor model.\n",
        "\n",
        "We will go through some of the steps like:\n",
        "\n",
        "1.  Loading the Dataset\n",
        "2.  Data Exploration\n",
        "3.  Data Preprocessing and Model exploration\n",
        "4.  Model Evaluation\n",
        "5.  Prediction\n",
        "6.  Model performance\n",
        "\n",
        "Using some SkLearn API like preprocessing, model_selection, compose etc. we will try to formulate our model and predict the efficiency of our model as high as possible. Also by performing Hyperparameter tuning we can increase the efficiency of our model. So lets begin..."
      ],
      "metadata": {
        "id": "JZ-HVcGbhaLV"
      }
    },
    {
      "cell_type": "code",
      "execution_count": null,
      "metadata": {
        "id": "n-VSmvMtgvGI"
      },
      "outputs": [],
      "source": [
        "# importing SkLearn APIs\n",
        "import numpy as np\n",
        "import pandas as pd\n",
        "import seaborn as sns\n",
        "import matplotlib.pyplot as plt\n",
        "%matplotlib inline\n",
        "\n",
        "from sklearn.datasets import fetch_california_housing\n",
        "\n",
        "from sklearn.preprocessing import OneHotEncoder\n",
        "from sklearn.preprocessing import StandardScaler, MinMaxScaler, MaxAbsScaler\n",
        "\n",
        "from sklearn.pipeline import Pipeline, make_pipeline\n",
        "\n",
        "from sklearn.linear_model import LinearRegression\n",
        "from sklearn.linear_model import SGDRegressor\n",
        "\n",
        "from sklearn.model_selection import train_test_split\n",
        "from sklearn.model_selection import ShuffleSplit\n",
        "from sklearn.model_selection import cross_val_score\n",
        "from sklearn.model_selection import cross_validate,cross_val_predict\n",
        "from sklearn.model_selection import learning_curve\n",
        "from sklearn.model_selection import validation_curve\n",
        "\n",
        "from sklearn.metrics import mean_squared_error\n",
        "from sklearn.metrics import mean_absolute_error\n",
        "from sklearn.metrics import mean_squared_log_error"
      ]
    },
    {
      "cell_type": "code",
      "source": [
        "# setting up the random_state value for having the same data value to be loaded.\n",
        "np.random.seed(306)\n",
        "plt.style.use('seaborn')"
      ],
      "metadata": {
        "id": "VMDC3tqNli_1"
      },
      "execution_count": null,
      "outputs": []
    },
    {
      "cell_type": "markdown",
      "source": [
        "We will use ShuffleSplit as a cross validation strategy."
      ],
      "metadata": {
        "id": "HZ1t0fn4nH9l"
      }
    },
    {
      "cell_type": "code",
      "source": [
        "Shuffle_split_cv = ShuffleSplit(n_splits=10, test_size=0.2, random_state=0)"
      ],
      "metadata": {
        "id": "yf3KCg2ZmQXy"
      },
      "execution_count": null,
      "outputs": []
    },
    {
      "cell_type": "markdown",
      "source": [
        "##Step1: **Loading Dataset**"
      ],
      "metadata": {
        "id": "GiVWqSdJnfRm"
      }
    },
    {
      "cell_type": "code",
      "source": [
        "features, label = fetch_california_housing(as_frame=True, return_X_y=True)\n"
      ],
      "metadata": {
        "id": "w1OFWd-BncsC"
      },
      "execution_count": null,
      "outputs": []
    },
    {
      "cell_type": "markdown",
      "source": [
        "Splitting the dataset into training and test set."
      ],
      "metadata": {
        "id": "d6E5azjWotYm"
      }
    },
    {
      "cell_type": "code",
      "source": [
        "com_train_features,test_features,com_train_label,test_label = train_test_split(features,label,random_state=42)"
      ],
      "metadata": {
        "id": "D1wq46fgoS45"
      },
      "execution_count": null,
      "outputs": []
    },
    {
      "cell_type": "markdown",
      "source": [
        "Splitting the training dataset into training and dev set."
      ],
      "metadata": {
        "id": "y9BQeSSmox8G"
      }
    },
    {
      "cell_type": "code",
      "source": [
        "train_features,dev_features,train_label,dev_label = train_test_split(com_train_features,com_train_label,random_state=42)"
      ],
      "metadata": {
        "id": "qD9otwx_oxVl"
      },
      "execution_count": null,
      "outputs": []
    },
    {
      "cell_type": "markdown",
      "source": [
        "1. Fit the train set in the SGDRegressor Model with default parameter.\n",
        "2. Generate the Score with this default parameter Model.\n",
        "3. Hypertuning the model and calculating the score."
      ],
      "metadata": {
        "id": "NAj33xqrsV6U"
      }
    },
    {
      "cell_type": "code",
      "source": [
        "sgd = SGDRegressor(random_state=42)\n",
        "sgd.fit(train_features,train_label)"
      ],
      "metadata": {
        "id": "gk_yV83SpTlo",
        "colab": {
          "base_uri": "https://localhost:8080/"
        },
        "outputId": "0ae08c4c-0e21-46ba-e153-beeca4396f2e"
      },
      "execution_count": null,
      "outputs": [
        {
          "output_type": "execute_result",
          "data": {
            "text/plain": [
              "SGDRegressor(random_state=42)"
            ]
          },
          "metadata": {},
          "execution_count": 123
        }
      ]
    },
    {
      "cell_type": "code",
      "source": [
        "sgd.score(dev_features,dev_label)"
      ],
      "metadata": {
        "colab": {
          "base_uri": "https://localhost:8080/"
        },
        "id": "83wzf5MXtNj9",
        "outputId": "37da3e31-bd91-449d-cfbc-07f535860ecd"
      },
      "execution_count": null,
      "outputs": [
        {
          "output_type": "execute_result",
          "data": {
            "text/plain": [
              "-1.2521836386958275e+29"
            ]
          },
          "metadata": {},
          "execution_count": 124
        }
      ]
    },
    {
      "cell_type": "code",
      "source": [
        "train_mae = mean_absolute_error(train_label, sgd.predict(train_features))\n",
        "dev_mae = mean_absolute_error(dev_label, sgd.predict(dev_features))"
      ],
      "metadata": {
        "id": "ZqnCw2f_tUNg"
      },
      "execution_count": null,
      "outputs": []
    },
    {
      "cell_type": "code",
      "source": [
        "print(f\"Mean Absolute Error on Training set: {train_mae.mean()} +/- {train_mae.std()}\")\n",
        "print(f\"Mean Absolute Error on Test set: {dev_mae.mean()} +/- {dev_mae.std()}\")"
      ],
      "metadata": {
        "colab": {
          "base_uri": "https://localhost:8080/"
        },
        "id": "NN5iBNbEuaO0",
        "outputId": "8f9a449f-442c-4e44-a3ef-6ef4d89ddd0f"
      },
      "execution_count": null,
      "outputs": [
        {
          "output_type": "stream",
          "name": "stdout",
          "text": [
            "Mean Absolute Error on Training set: 312995824045833.75 +/- 0.0\n",
            "Mean Absolute Error on Test set: 315394681503071.94 +/- 0.0\n"
          ]
        }
      ]
    },
    {
      "cell_type": "markdown",
      "source": [
        "According to the above condition, the error is very high. It may be the reason that the learning rate is very high. So now we will hypertune our model."
      ],
      "metadata": {
        "id": "w6tQjqGAxoH7"
      }
    },
    {
      "cell_type": "markdown",
      "source": [
        "## Adding a feature Scaling technique"
      ],
      "metadata": {
        "id": "CK1c9p10ze3F"
      }
    },
    {
      "cell_type": "markdown",
      "source": [
        "SGDRegressor is sensitive to feature scaling. So now we will use StandardScaler."
      ],
      "metadata": {
        "id": "pMHd9EbqzoGI"
      }
    },
    {
      "cell_type": "code",
      "source": [
        "sgd_pipeline = Pipeline([('feature_scaling',StandardScaler()),\n",
        "                         ('sgd',SGDRegressor(random_state=42))])\n",
        "sgd_pipeline.fit(train_features, train_label)\n",
        "train_mse = mean_squared_error(train_label,sgd_pipeline.predict(train_features))\n",
        "dev_mse = mean_squared_error(dev_label,sgd_pipeline.predict(dev_features))\n",
        "print(f\"Mean Squared Error on train set after Standardizing: {train_mse.mean()} +/- {train_mse.std()}\")\n",
        "print(f\"Mean Squared Error on dev set after Standardizing: {dev_mse.mean()} +/- {dev_mse.std()}\")"
      ],
      "metadata": {
        "id": "lmq9kg0GvJQa",
        "colab": {
          "base_uri": "https://localhost:8080/"
        },
        "outputId": "147cd53a-5158-4cf0-b8c5-e7fcd7197dc5"
      },
      "execution_count": null,
      "outputs": [
        {
          "output_type": "stream",
          "name": "stdout",
          "text": [
            "Mean Squared Error on train set after Standardizing: 2.30313399122981 +/- 0.0\n",
            "Mean Squared Error on dev set after Standardizing: 158.05640537983615 +/- 0.0\n"
          ]
        }
      ]
    },
    {
      "cell_type": "code",
      "source": [
        "train_mae_s = mean_absolute_error(train_label,sgd_pipeline.predict(train_features))\n",
        "dev_mae_s = mean_absolute_error(dev_label,sgd_pipeline.predict(dev_features))\n",
        "print(f\"Mean Absolute Error on train set after Standardizing: {train_mae_s.mean()} +/- {train_mae_s.std()}\")\n",
        "print(f\"Mean Absolute Error on dev set after Standardizing: {dev_mae_s.mean()} +/- {dev_mae_s.std()}\")"
      ],
      "metadata": {
        "colab": {
          "base_uri": "https://localhost:8080/"
        },
        "id": "7WC0b-Za7yBF",
        "outputId": "c3f08a43-246e-4aca-853a-ad9dd0210f77"
      },
      "execution_count": null,
      "outputs": [
        {
          "output_type": "stream",
          "name": "stdout",
          "text": [
            "Mean Absolute Error on train set after Standardizing: 0.7263733471565367 +/- 0.0\n",
            "Mean Absolute Error on dev set after Standardizing: 1.0129611556669136 +/- 0.0\n"
          ]
        }
      ]
    },
    {
      "cell_type": "markdown",
      "source": [
        "## Step wise training of **SGDRegressor**."
      ],
      "metadata": {
        "id": "DRKA7_Hm8-Ds"
      }
    },
    {
      "cell_type": "code",
      "source": [
        "# keeping the eta0 as default\n",
        "sgd_pipeline = Pipeline([('feature_scaling',StandardScaler()),\n",
        "                         ('sgd',SGDRegressor(max_iter=50, tol=np.infty, warm_start=True, random_state=42))])\n",
        "eta0 = 1e-2\n",
        "sgd_pipeline.fit(train_features,train_label)\n",
        "train_mse_t = mean_squared_error(train_label, sgd_pipeline.predict(train_features))\n",
        "print(f\"MSE after tuning some parameters of our model: {train_mse_t.mean()} +/- {train_mse_t.std()}\")\n",
        "print(f\"Number of iterations model took to converge: {sgd_pipeline[-1].n_iter_}\")"
      ],
      "metadata": {
        "colab": {
          "base_uri": "https://localhost:8080/"
        },
        "id": "Hj9ajj5r8qyJ",
        "outputId": "f5b12b27-0f9c-44ad-e91c-53cc4c0fa94b"
      },
      "execution_count": null,
      "outputs": [
        {
          "output_type": "stream",
          "name": "stdout",
          "text": [
            "MSE after tuning some parameters of our model: 0.8767091763248471 +/- 0.0\n",
            "Number of iterations model took to converge: 6\n"
          ]
        }
      ]
    },
    {
      "cell_type": "code",
      "source": [
        "sgd_pipeline = Pipeline([('feature_scaling',StandardScaler()),\n",
        "                         ('sgd',SGDRegressor(max_iter=1, tol=-np.infty, warm_start=True, random_state=42))])\n",
        "eta0 = 1e-2\n",
        "\n",
        "loss=[]\n",
        "for epochs in range(100):\n",
        "  sgd_pipeline.fit(train_features,train_label)\n",
        "  loss.append(mean_squared_error(train_label, sgd_pipeline.predict(train_features)))\n",
        "\n",
        "plt.plot(np.arange(len(loss)), loss, \"b-\", color=\"g\")\n",
        "plt.xlabel(\"#iterations\")\n",
        "plt.ylabel(\"MSE\")\n",
        "plt.legend([\"Training loss\"],loc=\"best\")\n",
        "plt.title(f\"Learing curve eta0={eta0:.3f}\");"
      ],
      "metadata": {
        "colab": {
          "base_uri": "https://localhost:8080/",
          "height": 376
        },
        "id": "Sc6JLG_K_R7_",
        "outputId": "6905bc3b-bb45-4916-f044-61043fdb0ee8"
      },
      "execution_count": null,
      "outputs": [
        {
          "output_type": "display_data",
          "data": {
            "image/png": "[encoded data removed]",
            "text/plain": [
              "<Figure size 576x396 with 1 Axes>"
            ]
          },
          "metadata": {}
        }
      ]
    },
    {
      "cell_type": "markdown",
      "source": [
        "From the above graph we can conclude that the trainig loss gradually increases. So now we should lower down the learning rate by a factor of 10 and check whether the training loss would decrease or not..."
      ],
      "metadata": {
        "id": "EfuCE9C8B8Vr"
      }
    },
    {
      "cell_type": "code",
      "source": [
        "eta0 = 1e-3\n",
        "sgd_pipeline = Pipeline([('feature_scaling',StandardScaler()),\n",
        "                         ('sgd',SGDRegressor(max_iter=1,eta0=eta0, tol=-np.infty, warm_start=True, random_state=42))])\n",
        "\n",
        "loss=[]\n",
        "for epochs in range(100):\n",
        "  sgd_pipeline.fit(train_features,train_label)\n",
        "  loss.append(mean_squared_error(train_label, sgd_pipeline.predict(train_features)))\n",
        "\n",
        "plt.plot(np.arange(len(loss)), loss, \"b-\", color=\"g\")\n",
        "plt.xlabel(\"#iterations\")\n",
        "plt.ylabel(\"MSE\")\n",
        "plt.legend([\"Training loss\"],loc=\"best\")\n",
        "plt.title(f\"Learing curve eta0={eta0:.3f}\");"
      ],
      "metadata": {
        "colab": {
          "base_uri": "https://localhost:8080/",
          "height": 376
        },
        "id": "bGotlWm1A8Va",
        "outputId": "9dcb8594-fcef-4d72-ad98-8dcd0cc55e90"
      },
      "execution_count": null,
      "outputs": [
        {
          "output_type": "display_data",
          "data": {
            "image/png": "[encoded data removed]",
            "text/plain": [
              "<Figure size 576x396 with 1 Axes>"
            ]
          },
          "metadata": {}
        }
      ]
    },
    {
      "cell_type": "markdown",
      "source": [
        "This is the ideal curve where the training loss decreased monotonically as the iteration increases."
      ],
      "metadata": {
        "id": "srj84bHcEKpD"
      }
    },
    {
      "cell_type": "code",
      "source": [
        "print(f\"Number of iterations before convergence: {sgd_pipeline[-1].n_iter_}\")\n",
        "print(f\"Number of weight updates: {sgd_pipeline[-1].t_}\")"
      ],
      "metadata": {
        "colab": {
          "base_uri": "https://localhost:8080/"
        },
        "id": "yh8M_746DSmE",
        "outputId": "805f7b5e-a3cd-43b7-b174-3a49e16c01c7"
      },
      "execution_count": null,
      "outputs": [
        {
          "output_type": "stream",
          "name": "stdout",
          "text": [
            "Number of iterations before convergence: 1\n",
            "Number of weight updates: 11611.0\n"
          ]
        }
      ]
    },
    {
      "cell_type": "code",
      "source": [
        "train_mse = mean_squared_error(train_label, sgd_pipeline.predict(train_features))\n",
        "dev_mse = mean_squared_error(dev_label, sgd_pipeline.predict(dev_features))\n",
        "print(f\"MSE on train set after tuning the model with lower learning rate: {train_mse.mean()} +/- {train_mse.std()}\")\n",
        "print(f\"MSE on dev set after tuning the model with lower learning rate: {dev_mse.mean()} +/- {dev_mse.std()}\")"
      ],
      "metadata": {
        "colab": {
          "base_uri": "https://localhost:8080/"
        },
        "id": "ERwYmNMQEuI-",
        "outputId": "1522b005-649f-4adf-875a-4d7bc2b43baf"
      },
      "execution_count": null,
      "outputs": [
        {
          "output_type": "stream",
          "name": "stdout",
          "text": [
            "MSE on train set after tuning the model with lower learning rate: 0.5279690451831024 +/- 0.0\n",
            "MSE on dev set after tuning the model with lower learning rate: 0.5464577664603332 +/- 0.0\n"
          ]
        }
      ]
    },
    {
      "cell_type": "code",
      "source": [
        "train_mae = mean_absolute_error(train_label, sgd_pipeline.predict(train_features))\n",
        "dev_mae = mean_absolute_error(dev_label, sgd_pipeline.predict(dev_features))\n",
        "print(f\"MAE on train set after tuning the model with lower learning rate: {train_mae.mean()} +/- {train_mae.std()}\")\n",
        "print(f\"MAE on dev set after tuning the model with lower learning rate: {dev_mae.mean()} +/- {dev_mae.std()}\")"
      ],
      "metadata": {
        "colab": {
          "base_uri": "https://localhost:8080/"
        },
        "id": "jx4MQeBbFQ3h",
        "outputId": "f1e36b31-98a0-4d5a-a1f0-c73cba3e481b"
      },
      "execution_count": null,
      "outputs": [
        {
          "output_type": "stream",
          "name": "stdout",
          "text": [
            "MAE on train set after tuning the model with lower learning rate: 0.5333732983042573 +/- 0.0\n",
            "MAE on dev set after tuning the model with lower learning rate: 0.5190150280908042 +/- 0.0\n"
          ]
        }
      ]
    },
    {
      "cell_type": "markdown",
      "source": [
        "## Fixing Learning rate and fitting our model..."
      ],
      "metadata": {
        "id": "3YYREcwVGcdC"
      }
    },
    {
      "cell_type": "code",
      "source": [
        "eta0 = [1e-5,1e-4,1e-3,1e-2]\n",
        "train_score, test_score = validation_curve(sgd_pipeline, \n",
        "                                           com_train_features, \n",
        "                                           com_train_label, \n",
        "                                           param_name=\"sgd__eta0\", \n",
        "                                           param_range=eta0, \n",
        "                                           cv=Shuffle_split_cv, \n",
        "                                           scoring=\"neg_mean_squared_error\", \n",
        "                                           n_jobs=2)\n",
        "train_score, test_score"
      ],
      "metadata": {
        "colab": {
          "base_uri": "https://localhost:8080/"
        },
        "id": "X2C4EFRSFwDO",
        "outputId": "12a72865-05a1-4445-fd3d-984b1493d234"
      },
      "execution_count": null,
      "outputs": [
        {
          "output_type": "execute_result",
          "data": {
            "text/plain": [
              "(array([[-5.4970157 , -5.47418537, -5.45561725, -5.45897979, -5.47585689,\n",
              "         -5.49191576, -5.50467408, -5.46853424, -5.45976827, -5.47144762],\n",
              "        [-4.30425385, -4.28546385, -4.26459393, -4.27506337, -4.28259875,\n",
              "         -4.29616127, -4.31118851, -4.27922324, -4.27646987, -4.2809932 ],\n",
              "        [-0.85589893, -0.85018122, -0.83657382, -0.84864292, -0.83959774,\n",
              "         -0.84994956, -0.85071409, -0.84445808, -0.85800914, -0.84362491],\n",
              "        [-0.66889017, -5.28976551, -0.83655736, -0.94020426, -1.54525895,\n",
              "         -0.99049287, -0.55470573, -0.85670068, -7.67925582, -0.95559332]]),\n",
              " array([[ -5.34615041,  -5.43535047,  -5.50797247,  -5.49914233,\n",
              "          -5.42859771,  -5.36358126,  -5.31414018,  -5.45927354,\n",
              "          -5.49479733,  -5.44649995],\n",
              "        [ -4.18525839,  -4.24409508,  -4.31716202,  -4.30795761,\n",
              "          -4.25544917,  -4.19538734,  -4.14454028,  -4.28102197,\n",
              "          -4.29459919,  -4.26337164],\n",
              "        [ -0.82331265,  -0.83521866,  -0.8905568 ,  -0.85080902,\n",
              "          -0.87958543,  -0.83284389,  -0.80320636,  -0.87942813,\n",
              "          -0.82299949,  -0.86033051],\n",
              "        [ -0.52805134,  -3.65306801,  -0.59860167,  -0.55698968,\n",
              "          -9.79601717,  -4.53809346,  -0.70232948,  -0.82021001,\n",
              "         -66.52730503,  -0.61706607]]))"
            ]
          },
          "metadata": {},
          "execution_count": 135
        }
      ]
    },
    {
      "cell_type": "code",
      "source": [
        "train_error, test_error = -train_score, -test_score\n",
        "plt.plot(eta0, train_error.mean(axis=1),\"b-\", color=\"g\", label=\"train_error\")\n",
        "plt.plot(eta0, test_error.mean(axis=1), \"b-\", color=\"r\", label=\"test_error\" )\n",
        "plt.xlabel(\"eta0\")\n",
        "plt.legend(loc='best')\n",
        "plt.ylabel(\"Mean absolute error\")\n",
        "plt.title(\"Validation curve for SGD\");"
      ],
      "metadata": {
        "colab": {
          "base_uri": "https://localhost:8080/",
          "height": 376
        },
        "id": "8y0F9pDaIAF4",
        "outputId": "b5a71f7e-0d84-4657-ece4-9eaa684920e4"
      },
      "execution_count": null,
      "outputs": [
        {
          "output_type": "display_data",
          "data": {
            "image/png": "[encoded data removed]",
            "text/plain": [
              "<Figure size 576x396 with 1 Axes>"
            ]
          },
          "metadata": {}
        }
      ]
    },
    {
      "cell_type": "markdown",
      "source": [
        "##SGDRegressor"
      ],
      "metadata": {
        "id": "mTJ9cM6yK2x9"
      }
    },
    {
      "cell_type": "code",
      "source": [
        "sgd_pipeline = Pipeline([('feature_scaling',StandardScaler()),\n",
        "                         ('sgd',SGDRegressor(loss=\"squared_error\", \n",
        "                                             max_iter=500,\n",
        "                                             eta0=1e-3, \n",
        "                                             tol=1e-3, \n",
        "                                             learning_rate='constant',\n",
        "                                             early_stopping=True, \n",
        "                                             validation_fraction=0.2, \n",
        "                                             n_iter_no_change=5, \n",
        "                                             average=10, \n",
        "                                             random_state=42))])\n",
        "sgd_pipeline.fit(train_features, train_label)\n",
        "train_mae = mean_absolute_error(train_label, sgd_pipeline.predict(train_features))\n",
        "dev_mae = mean_absolute_error(dev_label, sgd_pipeline.predict(dev_features))\n",
        "print(f\"MAE on Train set: {train_mae.mean()} +/- {train_mae.std()}\")\n",
        "print(f\"MAE on dev set: {dev_mae.mean()} +/- {dev_mae.std()}\")"
      ],
      "metadata": {
        "colab": {
          "base_uri": "https://localhost:8080/"
        },
        "id": "Chv-ykgxIgHM",
        "outputId": "c46f8cb5-0ce0-4c9e-973b-f65feb9a02e3"
      },
      "execution_count": null,
      "outputs": [
        {
          "output_type": "stream",
          "name": "stdout",
          "text": [
            "MAE on Train set: 0.5359339681114987 +/- 0.0\n",
            "MAE on dev set: 0.5151099728924144 +/- 0.0\n"
          ]
        }
      ]
    },
    {
      "cell_type": "code",
      "source": [
        "print(f\"Number of iteration before convergence: {sgd_pipeline[-1].n_iter_}\")\n",
        "print(f\"Number of weight updates: {sgd_pipeline[-1].t_}\")"
      ],
      "metadata": {
        "colab": {
          "base_uri": "https://localhost:8080/"
        },
        "id": "qFY9VWoHMvVe",
        "outputId": "26a2723a-59e8-482f-8839-e829b7d53378"
      },
      "execution_count": null,
      "outputs": [
        {
          "output_type": "stream",
          "name": "stdout",
          "text": [
            "Number of iteration before convergence: 8\n",
            "Number of weight updates: 92881.0\n"
          ]
        }
      ]
    },
    {
      "cell_type": "code",
      "source": [
        "sgd_pipeline = Pipeline([('feature_scaling',StandardScaler()),\n",
        "                         ('sgd',SGDRegressor(loss=\"squared_error\", \n",
        "                                             max_iter=500,\n",
        "                                             eta0=1e-3, \n",
        "                                             tol=1e-3, \n",
        "                                             learning_rate='adaptive',\n",
        "                                             early_stopping=True, \n",
        "                                             validation_fraction=0.2, \n",
        "                                             n_iter_no_change=5, \n",
        "                                             average=10, \n",
        "                                             random_state=42))])\n",
        "sgd_pipeline.fit(train_features, train_label)\n",
        "train_mae = mean_absolute_error(train_label, sgd_pipeline.predict(train_features))\n",
        "dev_mae = mean_absolute_error(dev_label, sgd_pipeline.predict(dev_features))\n",
        "print(f\"MAE on Train set: {train_mae.mean()} +/- {train_mae.std()}\")\n",
        "print(f\"MAE on dev set: {dev_mae.mean()} +/- {dev_mae.std()}\")"
      ],
      "metadata": {
        "colab": {
          "base_uri": "https://localhost:8080/"
        },
        "id": "ILCHwUDfNGXc",
        "outputId": "6db5879d-56bf-4856-c3b6-a83ff53ab763"
      },
      "execution_count": null,
      "outputs": [
        {
          "output_type": "stream",
          "name": "stdout",
          "text": [
            "MAE on Train set: 0.5340193046836148 +/- 0.0\n",
            "MAE on dev set: 0.5198356196858102 +/- 0.0\n"
          ]
        }
      ]
    },
    {
      "cell_type": "code",
      "source": [
        "print(f\"Number of iteration before convergence: {sgd_pipeline[-1].n_iter_}\")\n",
        "print(f\"Number of weight updates: {sgd_pipeline[-1].t_}\")"
      ],
      "metadata": {
        "colab": {
          "base_uri": "https://localhost:8080/"
        },
        "id": "jOuf4K17OSgY",
        "outputId": "b8958b16-2a61-440b-d902-1f04f2257379"
      },
      "execution_count": null,
      "outputs": [
        {
          "output_type": "stream",
          "name": "stdout",
          "text": [
            "Number of iteration before convergence: 33\n",
            "Number of weight updates: 383131.0\n"
          ]
        }
      ]
    },
    {
      "cell_type": "markdown",
      "source": [
        "### Setting max_iter"
      ],
      "metadata": {
        "id": "cpla5xzdOXNt"
      }
    },
    {
      "cell_type": "code",
      "source": [
        "max_iter = np.ceil(1e6/com_train_features.shape[0])\n",
        "max_iter"
      ],
      "metadata": {
        "colab": {
          "base_uri": "https://localhost:8080/"
        },
        "id": "VhGExnPgOUdu",
        "outputId": "80aec2f7-837a-4609-a7ba-63578bd09048"
      },
      "execution_count": null,
      "outputs": [
        {
          "output_type": "execute_result",
          "data": {
            "text/plain": [
              "65.0"
            ]
          },
          "metadata": {},
          "execution_count": 142
        }
      ]
    },
    {
      "cell_type": "code",
      "source": [
        "sgd_pipeline = Pipeline([('feature_scaling',StandardScaler()),\n",
        "                         ('sgd',SGDRegressor(loss=\"squared_error\", \n",
        "                                             max_iter=max_iter,\n",
        "                                             eta0=1e-3, \n",
        "                                             tol=1e-3, \n",
        "                                             learning_rate='constant',\n",
        "                                             early_stopping=True, \n",
        "                                             validation_fraction=0.2, \n",
        "                                             n_iter_no_change=5, \n",
        "                                             average=10, \n",
        "                                             random_state=42))])\n",
        "sgd_pipeline.fit(train_features, train_label)\n",
        "train_mae = mean_absolute_error(train_label, sgd_pipeline.predict(train_features))\n",
        "dev_mae = mean_absolute_error(dev_label, sgd_pipeline.predict(dev_features))\n",
        "print(f\"MAE on Train set: {train_mae.mean()} +/- {train_mae.std()}\")\n",
        "print(f\"MAE on dev set: {dev_mae.mean()} +/- {dev_mae.std()}\")"
      ],
      "metadata": {
        "colab": {
          "base_uri": "https://localhost:8080/"
        },
        "id": "VMtNnvWCOoU5",
        "outputId": "b5288915-fa46-4e64-e02d-81837468c1fe"
      },
      "execution_count": null,
      "outputs": [
        {
          "output_type": "stream",
          "name": "stdout",
          "text": [
            "MAE on Train set: 0.5359339681114987 +/- 0.0\n",
            "MAE on dev set: 0.5151099728924144 +/- 0.0\n"
          ]
        }
      ]
    },
    {
      "cell_type": "code",
      "source": [
        "print(f\"Number of iterations before convergence: {sgd_pipeline[-1].n_iter_}\")\n",
        "print(f\"Number of weight updates: {sgd_pipeline[-1].t_}\")"
      ],
      "metadata": {
        "colab": {
          "base_uri": "https://localhost:8080/"
        },
        "id": "QmwgvxD4O64v",
        "outputId": "83aafd26-5538-4eb4-f013-3d73cd038dc7"
      },
      "execution_count": null,
      "outputs": [
        {
          "output_type": "stream",
          "name": "stdout",
          "text": [
            "Number of iterations before convergence: 8\n",
            "Number of weight updates: 92881.0\n"
          ]
        }
      ]
    }
  ]
}